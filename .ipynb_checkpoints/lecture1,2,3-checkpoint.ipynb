{
 "cells": [
  {
   "cell_type": "code",
   "execution_count": 1,
   "id": "c0188f31-2e25-4a6d-8278-969ac43d3a7f",
   "metadata": {},
   "outputs": [
    {
     "name": "stdout",
     "output_type": "stream",
     "text": [
      "3\n"
     ]
    },
    {
     "ename": "TypeError",
     "evalue": "unsupported operand type(s) for +: 'int' and 'str'",
     "output_type": "error",
     "traceback": [
      "\u001b[1;31m---------------------------------------------------------------------------\u001b[0m",
      "\u001b[1;31mTypeError\u001b[0m                                 Traceback (most recent call last)",
      "Cell \u001b[1;32mIn[1], line 2\u001b[0m\n\u001b[0;32m      1\u001b[0m \u001b[38;5;28mprint\u001b[39m(\u001b[38;5;241m1\u001b[39m\u001b[38;5;241m+\u001b[39m\u001b[38;5;241m2\u001b[39m)\n\u001b[1;32m----> 2\u001b[0m \u001b[38;5;28mprint\u001b[39m(\u001b[38;5;241;43m2\u001b[39;49m\u001b[38;5;241;43m+\u001b[39;49m\u001b[38;5;124;43m'\u001b[39;49m\u001b[38;5;124;43mhello\u001b[39;49m\u001b[38;5;124;43m'\u001b[39;49m)\n\u001b[0;32m      3\u001b[0m \u001b[38;5;28mprint\u001b[39m(\u001b[38;5;124m'\u001b[39m\u001b[38;5;124mhello\u001b[39m\u001b[38;5;124m'\u001b[39m)\n",
      "\u001b[1;31mTypeError\u001b[0m: unsupported operand type(s) for +: 'int' and 'str'"
     ]
    }
   ],
   "source": [
    "print(1+2)\n",
    "print(2+'hello')\n",
    "print('hello')"
   ]
  },
  {
   "cell_type": "code",
   "execution_count": 2,
   "id": "5faab375-4263-4d88-ae23-5b01dc108068",
   "metadata": {},
   "outputs": [
    {
     "name": "stdout",
     "output_type": "stream",
     "text": [
      "17\n"
     ]
    }
   ],
   "source": [
    "a=5**2-6//2*5+7-6%2\n",
    "print(a)"
   ]
  },
  {
   "cell_type": "code",
   "execution_count": 3,
   "id": "dba288ea-8107-4f72-baf1-d8717c1dd16c",
   "metadata": {},
   "outputs": [
    {
     "name": "stdout",
     "output_type": "stream",
     "text": [
      "6\n"
     ]
    }
   ],
   "source": [
    "n=2\n",
    "x=1\n",
    "y=5\n",
    "if(n%2 ==0):\n",
    "     print(x+y)\n",
    "else:\n",
    "    print(x*y)"
   ]
  },
  {
   "cell_type": "code",
   "execution_count": 4,
   "id": "0c38bd89-209d-4fb8-be5a-fc56a4e983c6",
   "metadata": {},
   "outputs": [
    {
     "name": "stdout",
     "output_type": "stream",
     "text": [
      "n1 is greater\n"
     ]
    }
   ],
   "source": [
    "#largest b/w three number\n",
    "n=5\n",
    "n1=10\n",
    "n2=7\n",
    "if(n>n1 and n>n2):\n",
    "   print(\"n is greater\")\n",
    "elif(n1>n and n1>n2):\n",
    "   print(\"n1 is greater\")\n",
    "else:\n",
    "   print(\"n2 is greater\")"
   ]
  },
  {
   "cell_type": "code",
   "execution_count": 5,
   "id": "2b04e0e9-8aca-412c-aa7e-4211593f1379",
   "metadata": {},
   "outputs": [
    {
     "name": "stdout",
     "output_type": "stream",
     "text": [
      "n1 is largest\n",
      "n2 is second largest\n"
     ]
    }
   ],
   "source": [
    "#second largest b/w  three numbers\n",
    "n=5\n",
    "n1=10\n",
    "n2=7\n",
    "if(n>n1 and n>n2):\n",
    "    print(\"n is largest\")\n",
    "    if(n1>n2):\n",
    "        print(\"n1 is second largest\")\n",
    "    else:\n",
    "        print(\"n2 is second largest\")\n",
    "elif(n1>n and n1>n2):\n",
    "    print(\"n1 is largest\")\n",
    "    if(n>n2):\n",
    "        print(\"n is secod largest\")\n",
    "    else:\n",
    "        print(\"n2 is second largest\")\n",
    "else:\n",
    "    print(\"n1 is greater\")\n",
    "    if(n>n1):\n",
    "        print(\"n is secod largest\")\n",
    "    else:\n",
    "        print(\"n1 is second largest\")\n",
    "        "
   ]
  },
  {
   "cell_type": "code",
   "execution_count": 6,
   "id": "7b66fed6-214e-466b-96b3-ac23dda7504a",
   "metadata": {},
   "outputs": [
    {
     "name": "stdout",
     "output_type": "stream",
     "text": [
      "1\n",
      "3\n",
      "5\n",
      "7\n",
      "9\n",
      "11\n",
      "13\n",
      "15\n",
      "17\n",
      "19\n"
     ]
    }
   ],
   "source": [
    "#control flow statement\n",
    "start = 1\n",
    "while(start<20):\n",
    "    print(start)\n",
    "    start+=2"
   ]
  },
  {
   "cell_type": "code",
   "execution_count": 7,
   "id": "b50fabc9-5ced-4ac7-8e79-6a3b51218660",
   "metadata": {},
   "outputs": [
    {
     "name": "stdout",
     "output_type": "stream",
     "text": [
      "20\n",
      "18\n",
      "16\n",
      "14\n",
      "12\n",
      "10\n",
      "8\n",
      "6\n",
      "4\n",
      "2\n"
     ]
    }
   ],
   "source": [
    "\n",
    "start = 20\n",
    "while(start>1):\n",
    "    print(start)\n",
    "    start-=2"
   ]
  },
  {
   "cell_type": "code",
   "execution_count": 8,
   "id": "76c5e808-e126-4914-b0b5-04a99de8ab61",
   "metadata": {},
   "outputs": [
    {
     "name": "stdout",
     "output_type": "stream",
     "text": [
      "1\n",
      "2\n",
      "3\n"
     ]
    }
   ],
   "source": [
    "# digit counting\n",
    "n=845\n",
    "count = 0\n",
    "while(n>0):\n",
    "    n=n//10 \n",
    "    count+=1\n",
    "    print(count)"
   ]
  },
  {
   "cell_type": "code",
   "execution_count": 9,
   "id": "39fb02eb-d08a-41bb-8958-def877340e56",
   "metadata": {},
   "outputs": [
    {
     "name": "stdout",
     "output_type": "stream",
     "text": [
      "548\n"
     ]
    }
   ],
   "source": [
    "#for reverse digit\n",
    "n=845\n",
    "rev=0\n",
    "while(n>0):\n",
    "  x=n%10\n",
    "  n//=10\n",
    "  rev = rev*10+x\n",
    "print(rev)"
   ]
  },
  {
   "cell_type": "code",
   "execution_count": 11,
   "id": "7341d30c-d6ca-42c8-b731-cac4f45ee4f2",
   "metadata": {},
   "outputs": [
    {
     "name": "stdin",
     "output_type": "stream",
     "text": [
      "enter a number: 6\n"
     ]
    },
    {
     "name": "stdout",
     "output_type": "stream",
     "text": [
      "1\n",
      "2\n",
      "3\n",
      "6\n"
     ]
    }
   ],
   "source": [
    "###### find all factor of a given number\n",
    "fact=1\n",
    "n=int(input(\"enter a number:\"))\n",
    "while(fact<=n):\n",
    "    if (n%fact==0):\n",
    "        print(fact)\n",
    "    fact+=1    "
   ]
  },
  {
   "cell_type": "code",
   "execution_count": 12,
   "id": "f2ee1487-9bf6-4ad5-ae50-9b6b58f3e8aa",
   "metadata": {},
   "outputs": [
    {
     "name": "stdout",
     "output_type": "stream",
     "text": [
      "120\n"
     ]
    }
   ],
   "source": [
    "# find factorial of a given number\n",
    "n=5\n",
    "num=1\n",
    "fact = 1\n",
    "while(num<=n):\n",
    "  fact*=num\n",
    "  num+=1\n",
    "print(fact)"
   ]
  },
  {
   "cell_type": "code",
   "execution_count": 13,
   "id": "a3388220-78b3-4e12-91d9-8c609dd76b97",
   "metadata": {},
   "outputs": [
    {
     "name": "stdout",
     "output_type": "stream",
     "text": [
      "5\n"
     ]
    }
   ],
   "source": [
    "#find gcd of a number\n",
    "#b=15,a=10,rem=5\n",
    "#b=10,a=5,rem=0\n",
    "rem=0\n",
    "b=10\n",
    "a=15\n",
    "while(b%a!=0):\n",
    "    rem=b%a\n",
    "    b=a\n",
    "    a=rem\n",
    "print(a)"
   ]
  },
  {
   "cell_type": "code",
   "execution_count": 14,
   "id": "9894ff11-24be-4624-bc40-e1e0dccff54c",
   "metadata": {},
   "outputs": [
    {
     "name": "stdin",
     "output_type": "stream",
     "text": [
      " 7\n"
     ]
    },
    {
     "name": "stdout",
     "output_type": "stream",
     "text": [
      "7\n"
     ]
    }
   ],
   "source": [
    "n = input()\n",
    "print(n)"
   ]
  },
  {
   "cell_type": "code",
   "execution_count": 15,
   "id": "45bf5039-7af3-44b7-90d8-d677eed2a844",
   "metadata": {
    "editable": true,
    "slideshow": {
     "slide_type": ""
    },
    "tags": []
   },
   "outputs": [
    {
     "name": "stdin",
     "output_type": "stream",
     "text": [
      "enter a number: 7\n"
     ]
    },
    {
     "name": "stdout",
     "output_type": "stream",
     "text": [
      "2\n"
     ]
    }
   ],
   "source": [
    "#find the square root of a given number\n",
    "n=int(input(\"enter a number:\"))\n",
    "s=0\n",
    "while(s*s<=n):\n",
    "    s+=1\n",
    "print(s-1)"
   ]
  },
  {
   "cell_type": "code",
   "execution_count": 16,
   "id": "cc6146b4-801c-4c42-a3bd-1c542a44a07e",
   "metadata": {},
   "outputs": [
    {
     "name": "stdin",
     "output_type": "stream",
     "text": [
      "enter a number: 7\n"
     ]
    },
    {
     "name": "stdout",
     "output_type": "stream",
     "text": [
      "28\n"
     ]
    }
   ],
   "source": [
    "6#find the sum of natural number\n",
    "sum=0\n",
    "num=1\n",
    "n=int(input(\"enter a number:\"))\n",
    "while(num<=n):   \n",
    "     sum+=num\n",
    "     num+=1\n",
    "print(sum)"
   ]
  },
  {
   "cell_type": "code",
   "execution_count": 17,
   "id": "97b33a92-8218-41f6-8a3d-d68bf732be15",
   "metadata": {},
   "outputs": [
    {
     "name": "stdout",
     "output_type": "stream",
     "text": [
      "5.0990195135927845\n"
     ]
    }
   ],
   "source": [
    "#find the distance between  two points \n",
    "x,x1=0,5\n",
    "y,y1=1,2\n",
    "d=((x-x1)**2+(y-y1)**2)**0.5\n",
    "print(d)\n"
   ]
  },
  {
   "cell_type": "code",
   "execution_count": 18,
   "id": "e1caffc5-d77d-4fb7-a400-3b676efa9397",
   "metadata": {},
   "outputs": [
    {
     "name": "stdout",
     "output_type": "stream",
     "text": [
      "8.94427190999916\n"
     ]
    }
   ],
   "source": [
    "#find the area of parallelogram\n",
    "x1,x2,x3,x4=5,9,7,3\n",
    "y1,y2,y3,y4=2,2,0,0\n",
    "d1=((x1-x3)**2+(y1-y3)**2)**0.5\n",
    "d2=((x2-x4)**2+(y2-y4)**2)**0.5\n",
    "area=1/2*d1*d2\n",
    "print(area)"
   ]
  },
  {
   "cell_type": "code",
   "execution_count": 19,
   "id": "1fd03534-a08c-49cd-916b-45393055d874",
   "metadata": {},
   "outputs": [
    {
     "name": "stdout",
     "output_type": "stream",
     "text": [
      "2\n",
      "4\n",
      "7\n",
      "11\n",
      "16\n",
      "22\n",
      "29\n"
     ]
    }
   ],
   "source": [
    "###### find the sum of pattern upto 30\n",
    "num=1\n",
    "diff=1\n",
    "while(True):\n",
    "    num+=diff\n",
    "    diff+=1\n",
    "    if(num>30):\n",
    "        break\n",
    "    print(num)"
   ]
  },
  {
   "cell_type": "code",
   "execution_count": 20,
   "id": "7a5205e3-1e75-47e8-abdb-9e9967b3cac0",
   "metadata": {},
   "outputs": [],
   "source": [
    "#find no of zeroes in 155 factorial ans 38\n",
    "#find the sum of all factor of 576 ans 1651.\n",
    "#sum of all digit of  number.\n",
    "#find the progrm to calculate the lCM of two number.\n",
    "#to calculate prime factor of number.\n",
    "#wrt to check a no. is prime or not.\n",
    "#find 10 fibonaccii no.\n"
   ]
  },
  {
   "cell_type": "code",
   "execution_count": 21,
   "id": "16ce2c82-63d3-4646-aa98-6f3066be78cf",
   "metadata": {},
   "outputs": [
    {
     "name": "stdout",
     "output_type": "stream",
     "text": [
      "38\n"
     ]
    }
   ],
   "source": [
    "#1\n",
    "def count_trailing_zeros(n):\n",
    "    count = 0\n",
    "    while n >= 5:\n",
    "        n //= 5\n",
    "        count += n\n",
    "    return count\n",
    "num_zeros = count_trailing_zeros(155)\n",
    "print(num_zeros)"
   ]
  },
  {
   "cell_type": "code",
   "execution_count": 22,
   "id": "0b8496c6-bd9a-4701-b975-156d59871d31",
   "metadata": {},
   "outputs": [
    {
     "name": "stdout",
     "output_type": "stream",
     "text": [
      "1651\n"
     ]
    }
   ],
   "source": [
    "#2\n",
    "def sum_of_factors(n):\n",
    "    sum_factors = 0\n",
    "    for i in range(1, n + 1):\n",
    "        if n % i == 0:\n",
    "            sum_factors += i\n",
    "    return sum_factors\n",
    "\n",
    "number = 576\n",
    "sum_factors = sum_of_factors(number)\n",
    "print(sum_factors)\n"
   ]
  },
  {
   "cell_type": "code",
   "execution_count": 27,
   "id": "61c7c778-c6f7-48c1-b91c-3131bb9dfc3d",
   "metadata": {},
   "outputs": [
    {
     "name": "stdin",
     "output_type": "stream",
     "text": [
      "Enter Number:  7\n"
     ]
    },
    {
     "name": "stdout",
     "output_type": "stream",
     "text": [
      "7\n"
     ]
    }
   ],
   "source": [
    "#3\n",
    "num = input(\"Enter Number: \")\n",
    "sum = 0\n",
    "\n",
    "for i in num:\n",
    "    sum = sum + int(i)\n",
    "\n",
    "print(sum)"
   ]
  },
  {
   "cell_type": "code",
   "execution_count": 28,
   "id": "159d24d6-3b1d-4c45-b5c6-11b9801285b5",
   "metadata": {},
   "outputs": [
    {
     "name": "stdout",
     "output_type": "stream",
     "text": [
      "LCM of 12 and 14 is 84\n"
     ]
    }
   ],
   "source": [
    "#4\n",
    "num1 = 12\n",
    "num2 = 14\n",
    "for i in range(max(num1, num2), 1 + (num1 * num2)):\n",
    "    if i % num1 == i % num2 == 0:\n",
    "        lcm = i\n",
    "        break\n",
    "print(\"LCM of\", num1, \"and\", num2, \"is\", lcm)"
   ]
  },
  {
   "cell_type": "code",
   "execution_count": 29,
   "id": "2346f97c-e787-4de6-8597-51febc5fc0f4",
   "metadata": {},
   "outputs": [
    {
     "name": "stdout",
     "output_type": "stream",
     "text": [
      "[2, 2, 2, 7]\n"
     ]
    }
   ],
   "source": [
    "#5\n",
    "def prime_factors(n):\n",
    "    factors = []\n",
    "    # Check for number of 2s in n\n",
    "    while n % 2 == 0:\n",
    "        factors.append(2)\n",
    "        n //= 2\n",
    "    \n",
    "    # Check for odd factors from 3 onwards\n",
    "    for i in range(3, int(n**0.5) + 1, 2):\n",
    "        while n % i == 0:\n",
    "            factors.append(i)\n",
    "            n //= i\n",
    "    \n",
    "    # If n becomes a prime number greater than 2\n",
    "    if n > 2:\n",
    "        factors.append(n)\n",
    "    \n",
    "    return factors\n",
    "\n",
    "# Example usage\n",
    "number = 56\n",
    "result = prime_factors(number)\n",
    "print(result)\n"
   ]
  },
  {
   "cell_type": "code",
   "execution_count": 30,
   "id": "8c1b4666-b694-4b53-b719-af153f2bf2e6",
   "metadata": {},
   "outputs": [
    {
     "name": "stdout",
     "output_type": "stream",
     "text": [
      "29 is prime: True\n"
     ]
    }
   ],
   "source": [
    "#6\n",
    "def is_prime(n):\n",
    "    # Check for edge cases\n",
    "    if n <= 1:\n",
    "        return False\n",
    "    if n <= 3:\n",
    "        return True\n",
    "    if n % 2 == 0 or n % 3 == 0:\n",
    "        return False\n",
    "    \n",
    "    # Check for factors from 5 onwards\n",
    "    i = 5\n",
    "    while i * i <= n:\n",
    "        if n % i == 0 or n % (i + 2) == 0:\n",
    "            return False\n",
    "        i += 6\n",
    "    \n",
    "    return True\n",
    "\n",
    "# Example usage\n",
    "number = 29\n",
    "result = is_prime(number)\n",
    "print(f\"{number} is prime: {result}\")\n"
   ]
  },
  {
   "cell_type": "code",
   "execution_count": 31,
   "id": "ffff1b1a-1bfe-46d3-aa9c-575806d79a29",
   "metadata": {},
   "outputs": [
    {
     "name": "stdout",
     "output_type": "stream",
     "text": [
      "[0, 1, 1, 2, 3, 5, 8, 13, 21, 34]\n"
     ]
    }
   ],
   "source": [
    "#7\n",
    "def fibonacci(n):\n",
    "    fib_sequence = []\n",
    "    a, b = 0, 1\n",
    "    while len(fib_sequence) < n:\n",
    "        fib_sequence.append(a)\n",
    "        a, b = b, a + b\n",
    "    return fib_sequence\n",
    "\n",
    "# Example usage\n",
    "number_of_fib_numbers = 10\n",
    "result = fibonacci(number_of_fib_numbers)\n",
    "print(result)\n"
   ]
  },
  {
   "cell_type": "code",
   "execution_count": 34,
   "id": "9b83b6b2-3c24-4418-b681-dd1f5d882255",
   "metadata": {},
   "outputs": [
    {
     "name": "stdin",
     "output_type": "stream",
     "text": [
      "enter a number 8\n"
     ]
    },
    {
     "name": "stdout",
     "output_type": "stream",
     "text": [
      "not Prime\n"
     ]
    }
   ],
   "source": [
    "#5\n",
    "num=int(input(\"enter a number\"))\n",
    "isPrime = True\n",
    "count=2\n",
    "while(count<num):\n",
    "    if(num%count==0):\n",
    "        isPrime=False\n",
    "        break\n",
    "    count+=1\n",
    "if(isPrime):\n",
    "    print(\"Prime\")\n",
    "else:\n",
    "    print(\"not Prime\")"
   ]
  },
  {
   "cell_type": "code",
   "execution_count": 35,
   "id": "c979c3be-a565-4572-8949-491e3606916a",
   "metadata": {},
   "outputs": [
    {
     "name": "stdout",
     "output_type": "stream",
     "text": [
      "gnidoc\n"
     ]
    }
   ],
   "source": [
    "#STRING\n",
    "s=\"coding blocks\"\n",
    "print(s[5::-1])"
   ]
  },
  {
   "cell_type": "code",
   "execution_count": 36,
   "id": "d9c885ca-c063-4b07-8883-bc230113612b",
   "metadata": {},
   "outputs": [
    {
     "name": "stdout",
     "output_type": "stream",
     "text": [
      " coding blocks \n",
      "coding blocks\n"
     ]
    }
   ],
   "source": [
    "print(\" coding blocks \") \n",
    "print(s.strip())"
   ]
  },
  {
   "cell_type": "code",
   "execution_count": 37,
   "id": "ba47773b-5a01-4654-b33d-171baa6e7e98",
   "metadata": {},
   "outputs": [
    {
     "name": "stdout",
     "output_type": "stream",
     "text": [
      "2, 4, 5, 0, 1, 9, 2$4$5$0$1$9$"
     ]
    }
   ],
   "source": [
    "#list\n",
    "l=[2,4,5,0,1,9]\n",
    "for i in l:\n",
    "    print(i,end=\", \")\n",
    "for i in range(len(l)):\n",
    "    print(l[i],end=\"$\")"
   ]
  },
  {
   "cell_type": "code",
   "execution_count": 38,
   "id": "c6af0825-ded3-45be-92e6-856178f446e6",
   "metadata": {},
   "outputs": [
    {
     "name": "stdout",
     "output_type": "stream",
     "text": [
      "mango\n",
      "mango apple orange graphes\n"
     ]
    }
   ],
   "source": [
    "#tuple\n",
    "fruit=('mango','apple','orange','graphes')\n",
    "print(fruit[0])\n",
    "a,b,c,d=fruit\n",
    "print(a,b,c,d)"
   ]
  },
  {
   "cell_type": "code",
   "execution_count": 39,
   "id": "d4f3f87a-810f-46c6-880f-432e65a00041",
   "metadata": {},
   "outputs": [
    {
     "data": {
      "text/plain": [
       "12"
      ]
     },
     "execution_count": 39,
     "metadata": {},
     "output_type": "execute_result"
    }
   ],
   "source": [
    "#function\n",
    "def add(a,b):\n",
    "   c=a+b\n",
    "   return c\n",
    "# call\n",
    "add(5,7)"
   ]
  },
  {
   "cell_type": "code",
   "execution_count": 40,
   "id": "ec70ac68-ed12-4fc5-9fd4-6361f03ec6c0",
   "metadata": {},
   "outputs": [
    {
     "data": {
      "text/plain": [
       "40"
      ]
     },
     "execution_count": 40,
     "metadata": {},
     "output_type": "execute_result"
    }
   ],
   "source": [
    "# multiplication\n",
    "def mul(a,b):\n",
    "    c=a*b\n",
    "    return c\n",
    "#call\n",
    "mul(5,8)"
   ]
  },
  {
   "cell_type": "code",
   "execution_count": 41,
   "id": "bb10f2cf-2416-49a4-956c-8b9e9eb94037",
   "metadata": {},
   "outputs": [
    {
     "name": "stdout",
     "output_type": "stream",
     "text": [
      "2\n",
      "5\n",
      "11\n",
      "17\n"
     ]
    }
   ],
   "source": [
    "#for prime no.\n",
    "def PrimeNumber(num):\n",
    "    isPrime=True\n",
    "    count=2\n",
    "    while(count<num):\n",
    "        if(num%count==0):\n",
    "            isPrime=False\n",
    "            break\n",
    "        count+=1\n",
    "    return isPrime\n",
    "\n",
    "l=[2,5,10,11,15,17]\n",
    "for i in l:\n",
    "    if(PrimeNumber(i)):\n",
    "      print(i)"
   ]
  },
  {
   "cell_type": "code",
   "execution_count": 42,
   "id": "8f995654-8519-4239-84b8-d742cb3be9da",
   "metadata": {},
   "outputs": [
    {
     "name": "stdout",
     "output_type": "stream",
     "text": [
      "hey' good evening \n",
      "None\n"
     ]
    }
   ],
   "source": [
    "# for greeting\n",
    "def greet(str='morning'): #default parametres\n",
    "    print(\"hey' good\"+str)\n",
    "    return\n",
    "ans=greet(' evening ')\n",
    "print(ans)"
   ]
  },
  {
   "cell_type": "code",
   "execution_count": 43,
   "id": "05117426-3486-4326-b3cd-49727c23f892",
   "metadata": {},
   "outputs": [
    {
     "name": "stdout",
     "output_type": "stream",
     "text": [
      "12\n",
      "22\n"
     ]
    }
   ],
   "source": [
    "#lamda function\n",
    "add=lambda a,b:a+b\n",
    "print(add(5,7))\n",
    "print(add(10,12))"
   ]
  },
  {
   "cell_type": "code",
   "execution_count": 44,
   "id": "587de898-8f96-4558-a975-6bea0fbe547d",
   "metadata": {},
   "outputs": [
    {
     "name": "stdout",
     "output_type": "stream",
     "text": [
      "1 8 27 64 125 "
     ]
    },
    {
     "data": {
      "text/plain": [
       "[1, 8, 27, 64, 125]"
      ]
     },
     "execution_count": 44,
     "metadata": {},
     "output_type": "execute_result"
    }
   ],
   "source": [
    "l=[1,2,3,4,5]\n",
    "for i in l:\n",
    "    print(i**3, end=\" \")\n",
    "cube = lambda x:x**3\n",
    "list(map(cube,l))"
   ]
  },
  {
   "cell_type": "code",
   "execution_count": 45,
   "id": "b5e9c21d-a0ff-4937-a0a0-71e87c9ab771",
   "metadata": {},
   "outputs": [
    {
     "name": "stdout",
     "output_type": "stream",
     "text": [
      "2\n",
      "4\n"
     ]
    },
    {
     "data": {
      "text/plain": [
       "[2, 4]"
      ]
     },
     "execution_count": 45,
     "metadata": {},
     "output_type": "execute_result"
    }
   ],
   "source": [
    "# for even no.\n",
    "l=[1,2,3,4,5]\n",
    "for i in l:\n",
    "    if(i%2==0):\n",
    "        print(i)\n",
    "even = lambda x: x%2==0\n",
    "list(filter(even,l))"
   ]
  },
  {
   "cell_type": "code",
   "execution_count": 46,
   "id": "cbac8170-15d6-4e87-becc-ccfa55ea8a74",
   "metadata": {},
   "outputs": [
    {
     "name": "stdout",
     "output_type": "stream",
     "text": [
      "{'age': 20, 'name': 'janhavi'}\n",
      "dict_keys(['age', 'name']) dict_values([20, 'janhavi'])\n",
      "age 20\n",
      "name janhavi\n"
     ]
    }
   ],
   "source": [
    "#dictionary\n",
    "d={}\n",
    "d['age']=20 \n",
    "d['name']='janhavi'\n",
    "print(d)\n",
    "print(d.keys(), d.values())\n",
    "for i in d:\n",
    "    print(i,d[i])\n"
   ]
  },
  {
   "cell_type": "code",
   "execution_count": 47,
   "id": "bdbaa672-12de-443d-8ce7-8c0846825e6f",
   "metadata": {},
   "outputs": [
    {
     "name": "stdout",
     "output_type": "stream",
     "text": [
      "{'age': 20, 'name': 'janhavi'}\n",
      "dict_keys(['age', 'name']) dict_values([20, 'janhavi'])\n",
      "age 20\n",
      "name janhavi\n",
      "age=20\n",
      "name=janhavi\n"
     ]
    }
   ],
   "source": [
    "#for concatenation\n",
    "d={}\n",
    "d['age']=20 \n",
    "d['name']='janhavi'\n",
    "print(d)\n",
    "print(d.keys(), d.values())\n",
    "for i in d:\n",
    "    print(i,d[i])\n",
    "\n",
    "for key,value in d.items():\n",
    "    print(key + \"=\" + str(value))"
   ]
  },
  {
   "cell_type": "code",
   "execution_count": 49,
   "id": "8d0b343f-799e-4624-9c84-3d76be75aa40",
   "metadata": {},
   "outputs": [
    {
     "name": "stdin",
     "output_type": "stream",
     "text": [
      "enter string 8\n"
     ]
    },
    {
     "data": {
      "text/plain": [
       "True"
      ]
     },
     "execution_count": 49,
     "metadata": {},
     "output_type": "execute_result"
    }
   ],
   "source": [
    "#wrt a program for symmetrical string (hint like as bob)\n",
    "s=str(input(\"enter string\"))\n",
    "s==s[-1::-1]\n",
    "    "
   ]
  },
  {
   "cell_type": "code",
   "execution_count": 50,
   "id": "86957958-9bb8-47c7-b727-c87c819cef9b",
   "metadata": {},
   "outputs": [
    {
     "name": "stdout",
     "output_type": "stream",
     "text": [
      "63\n"
     ]
    }
   ],
   "source": [
    "#find the sum of all items in dictionary\n",
    "d={'x':24,'y':25,'z':14}\n",
    "sum=0\n",
    "for i in d.values():\n",
    "    sum+=i\n",
    "print(sum)"
   ]
  },
  {
   "cell_type": "code",
   "execution_count": 51,
   "id": "ec407d00-212a-4d6b-bfd9-cca0e9e5bb1c",
   "metadata": {},
   "outputs": [
    {
     "name": "stdout",
     "output_type": "stream",
     "text": [
      "3\n",
      "4\n",
      "5\n",
      "2\n",
      "1\n"
     ]
    }
   ],
   "source": [
    "#program to print or remove the 3value in list until it becomes empty. \n",
    "l=[1,2,3,4,5]\n",
    "while(len(l)>0):\n",
    "    if(len(l)>2):\n",
    "        print(l[2])\n",
    "        l.pop(2)\n",
    "    else:\n",
    "        print(l[-1])\n",
    "        l.pop()\n"
   ]
  },
  {
   "cell_type": "code",
   "execution_count": 52,
   "id": "d85f2686-660e-44bd-b23c-fea83411524a",
   "metadata": {},
   "outputs": [
    {
     "name": "stdout",
     "output_type": "stream",
     "text": [
      "The numbers are not the same.\n"
     ]
    }
   ],
   "source": [
    "#program to print the numbers are same or not in dataset.\n",
    "def check_numbers_same(dataset):\n",
    "    if not dataset:\n",
    "        print(\"The dataset is empty.\")\n",
    "        return\n",
    "\n",
    "    first_number = dataset[0]    \n",
    "    for number in dataset:\n",
    "        if number != first_number:\n",
    "            print(\"The numbers are not the same.\")\n",
    "            return\n",
    "    print(\"All the numbers are the same.\")\n",
    "\n",
    "# Example dataset\n",
    "dataset = [5, 5, 5, 5, 8]\n",
    "\n",
    "# Call the function with the dataset\n",
    "check_numbers_same(dataset)\n",
    "\n"
   ]
  },
  {
   "cell_type": "code",
   "execution_count": null,
   "id": "5288c9e3-6baa-4897-b368-c1855e7e0ac3",
   "metadata": {},
   "outputs": [],
   "source": []
  },
  {
   "cell_type": "code",
   "execution_count": null,
   "id": "60ed85c0-c1b5-45f9-8e0f-0ca6bf08a54b",
   "metadata": {},
   "outputs": [],
   "source": []
  }
 ],
 "metadata": {
  "kernelspec": {
   "display_name": "Python 3 (ipykernel)",
   "language": "python",
   "name": "python3"
  },
  "language_info": {
   "codemirror_mode": {
    "name": "ipython",
    "version": 3
   },
   "file_extension": ".py",
   "mimetype": "text/x-python",
   "name": "python",
   "nbconvert_exporter": "python",
   "pygments_lexer": "ipython3",
   "version": "3.11.8"
  }
 },
 "nbformat": 4,
 "nbformat_minor": 5
}
