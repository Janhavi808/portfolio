{
 "cells": [
  {
   "cell_type": "code",
   "execution_count": 1,
   "id": "1e1b38da-6a0e-41ba-b535-767d528603e8",
   "metadata": {},
   "outputs": [],
   "source": [
    "import numpy as np\n",
    "import seaborn as sns\n",
    "import matplotlib.pyplot as plt"
   ]
  },
  {
   "cell_type": "code",
   "execution_count": 2,
   "id": "5666306c-25c2-4880-a140-29598f105031",
   "metadata": {},
   "outputs": [
    {
     "name": "stdout",
     "output_type": "stream",
     "text": [
      "<class 'numpy.ndarray'> <class 'list'>\n"
     ]
    }
   ],
   "source": [
    "#create a numpy array\n",
    "l=[1,2,3,4,5,6]\n",
    "arr = np.array(l)\n",
    "print(type(arr), type(l))"
   ]
  },
  {
   "cell_type": "code",
   "execution_count": 3,
   "id": "74736989-258e-44a2-ad41-1be6b1368f33",
   "metadata": {},
   "outputs": [
    {
     "name": "stdout",
     "output_type": "stream",
     "text": [
      "1\n",
      "(6,)\n"
     ]
    }
   ],
   "source": [
    "print(arr.ndim)\n",
    "print(arr.shape)"
   ]
  },
  {
   "cell_type": "code",
   "execution_count": 4,
   "id": "1790b332-b733-4be8-bb68-6ec947f1cda7",
   "metadata": {},
   "outputs": [
    {
     "name": "stdout",
     "output_type": "stream",
     "text": [
      "(2, 4)\n"
     ]
    }
   ],
   "source": [
    "arr=[[1,2,3,4],[5,1,9,6]]\n",
    "arr = np.array(arr)\n",
    "print(arr.shape)"
   ]
  },
  {
   "cell_type": "code",
   "execution_count": 5,
   "id": "224aad73-cfa1-4356-8102-ce6318226d68",
   "metadata": {},
   "outputs": [
    {
     "name": "stdout",
     "output_type": "stream",
     "text": [
      "[ 2  4  6  8 10 12 14 16 18]\n"
     ]
    }
   ],
   "source": [
    "arr= np.arange(2,20,2)#1dimension array\n",
    "arr2=arr.reshape((3,3))#2 dim\n",
    "print(arr2.flatten())#1 dim"
   ]
  },
  {
   "cell_type": "code",
   "execution_count": 6,
   "id": "4334db29-f057-4079-abc9-3ff65035a565",
   "metadata": {},
   "outputs": [
    {
     "name": "stdout",
     "output_type": "stream",
     "text": [
      "[[86.50831234 67.91819501 20.49775939 86.23199066 24.07524598]\n",
      " [43.9673616  67.14205532 23.32845601 13.99778013 24.06717537]]\n"
     ]
    }
   ],
   "source": [
    "arr = np.random.random((2,5)) #val b/w 0 to 1\n",
    "print(arr*100)"
   ]
  },
  {
   "cell_type": "code",
   "execution_count": 7,
   "id": "20435af1-eb5a-4e5a-a327-a7d7773d0d14",
   "metadata": {},
   "outputs": [
    {
     "name": "stdout",
     "output_type": "stream",
     "text": [
      "2\n"
     ]
    }
   ],
   "source": [
    "import math\n",
    "n=2.5\n",
    "print(math.floor(n))"
   ]
  },
  {
   "cell_type": "code",
   "execution_count": 8,
   "id": "000f406e-06b5-4b3a-927e-3160de467285",
   "metadata": {},
   "outputs": [
    {
     "name": "stdout",
     "output_type": "stream",
     "text": [
      "[63 69 61 59 56 66 59 59 65 65]\n"
     ]
    }
   ],
   "source": [
    "arr=np.random.randint(50,70,10)\n",
    "print(arr)"
   ]
  },
  {
   "cell_type": "code",
   "execution_count": 9,
   "id": "3bcb0abb-ef1c-435a-a4c8-5f9aebd5a334",
   "metadata": {},
   "outputs": [
    {
     "name": "stdout",
     "output_type": "stream",
     "text": [
      "[[1 1 1]\n",
      " [1 1 1]\n",
      " [1 1 1]]\n",
      "[[2 2 2]\n",
      " [2 2 2]\n",
      " [2 2 2]]\n"
     ]
    }
   ],
   "source": [
    "zeroArr = np.ones((3,3),dtype='int')\n",
    "print(zeroArr)\n",
    "zeroArr.fill(2)\n",
    "print(zeroArr)"
   ]
  },
  {
   "cell_type": "code",
   "execution_count": 10,
   "id": "e429e5ff-6d54-4ef2-aef0-2cc598a3a9cd",
   "metadata": {},
   "outputs": [
    {
     "name": "stdout",
     "output_type": "stream",
     "text": [
      "[4 5 6]\n"
     ]
    }
   ],
   "source": [
    "#operations\n",
    "l=np.array([1,2,3])+3\n",
    "print(l)"
   ]
  },
  {
   "cell_type": "code",
   "execution_count": 11,
   "id": "3f2fb78f-499e-49fb-91d6-0dfb6aac274b",
   "metadata": {},
   "outputs": [
    {
     "name": "stdout",
     "output_type": "stream",
     "text": [
      "[[6 6 6]\n",
      " [6 6 6]\n",
      " [6 6 6]]\n"
     ]
    }
   ],
   "source": [
    "arr1 = np.ones((3,3),dtype='int')\n",
    "arr2 = np.ones((3,3),dtype='int')\n",
    "arr2.fill(5)\n",
    "\n",
    "print(arr1+arr2)"
   ]
  },
  {
   "cell_type": "code",
   "execution_count": 12,
   "id": "df59fc81-0311-4b63-a247-174d36e81075",
   "metadata": {},
   "outputs": [
    {
     "name": "stdout",
     "output_type": "stream",
     "text": [
      "[100]\n",
      "[4.60517019]\n"
     ]
    }
   ],
   "source": [
    "arr=np.array([100])\n",
    "sin = np.log(arr)\n",
    "print(arr)\n",
    "print(sin)"
   ]
  },
  {
   "cell_type": "code",
   "execution_count": 13,
   "id": "98eb42d8-985b-4db8-a3b8-a9bfc2467db7",
   "metadata": {},
   "outputs": [
    {
     "name": "stdout",
     "output_type": "stream",
     "text": [
      "[[44.85836019 86.76725795 10.79051666 91.14441425 69.6521043 ]\n",
      " [38.83373422 57.99180228 52.50965012 43.93735148 59.10744149]\n",
      " [ 3.00925777 52.65578749  9.45887605  1.69937816 75.4295744 ]\n",
      " [11.13907258 22.64769843  6.65722606 98.25885643  4.05008747]\n",
      " [57.47927978 36.89382268 91.44659939 79.22414546 72.26553153]]\n",
      "[ 3.00925777 22.64769843  6.65722606  1.69937816  4.05008747]\n",
      "[91.14441425 59.10744149 75.4295744  98.25885643 91.44659939]\n"
     ]
    }
   ],
   "source": [
    "#mean,max,min\n",
    "arr = np.random.random((5,5))*100 #val b/w 0 to 1\n",
    "print(arr)\n",
    "min = arr.min(axis=0) #max,mean(avg)\n",
    "print(min)\n",
    "max =arr.max(axis=1)\n",
    "print(max)"
   ]
  },
  {
   "cell_type": "code",
   "execution_count": 14,
   "id": "34a4252a-817d-4c7e-85a7-97d169d40d57",
   "metadata": {},
   "outputs": [
    {
     "name": "stdout",
     "output_type": "stream",
     "text": [
      "52.50965012136335\n",
      "[[86.76725795 91.14441425]\n",
      " [57.99180228 43.93735148]\n",
      " [52.65578749  1.69937816]\n",
      " [22.64769843 98.25885643]\n",
      " [36.89382268 79.22414546]]\n",
      "[[57.99180228 43.93735148]\n",
      " [36.89382268 79.22414546]]\n"
     ]
    }
   ],
   "source": [
    "#indexing values\n",
    "\n",
    "print(arr[1,2])\n",
    "print(arr[:,1::2])\n",
    "print(arr[1::3,1::2])\n"
   ]
  },
  {
   "cell_type": "code",
   "execution_count": 15,
   "id": "22c52e7b-0234-4c34-9bfd-50dcf24112da",
   "metadata": {},
   "outputs": [
    {
     "name": "stdout",
     "output_type": "stream",
     "text": [
      "[[86.76725795 91.14441425]\n",
      " [57.99180228 43.93735148]\n",
      " [52.65578749  1.69937816]\n",
      " [22.64769843 98.25885643]\n",
      " [36.89382268 79.22414546]]\n"
     ]
    }
   ],
   "source": [
    "#indexing and slicing\n",
    "print(arr[:,1::2])"
   ]
  },
  {
   "cell_type": "code",
   "execution_count": 16,
   "id": "b204b6c2-5222-422b-9d5e-e433e4b8b0f8",
   "metadata": {},
   "outputs": [
    {
     "name": "stdout",
     "output_type": "stream",
     "text": [
      "[[9.6858268  0.88915546 0.09802452]\n",
      " [0.34055469 5.41454752 2.10555719]\n",
      " [8.44356837 8.22107316 4.80351829]]\n",
      "[[0.51360847 6.85644691]\n",
      " [4.6587034  2.32818106]\n",
      " [9.37047409 1.61357281]]\n",
      "[[10.03557041 68.63864183]\n",
      " [45.12975181 18.33851194]\n",
      " [87.64747335 84.78385159]]\n"
     ]
    }
   ],
   "source": [
    "#  matrix\n",
    "A= np.random.random((3,3))*10\n",
    "B= np.random.random((3,2))*10\n",
    "print(A)\n",
    "print(B)\n",
    "print(A.dot(B))"
   ]
  },
  {
   "cell_type": "code",
   "execution_count": 17,
   "id": "11c752cb-160e-463d-b290-0c5814baa406",
   "metadata": {},
   "outputs": [
    {
     "name": "stdout",
     "output_type": "stream",
     "text": [
      "[[9.6858268  0.34055469 8.44356837]\n",
      " [0.88915546 5.41454752 8.22107316]\n",
      " [0.09802452 2.10555719 4.80351829]]\n"
     ]
    }
   ],
   "source": [
    "#transpose\n",
    "c=A.transpose()\n",
    "print(c)"
   ]
  },
  {
   "cell_type": "code",
   "execution_count": 18,
   "id": "c60ca4d6-e56e-420a-83a4-165d1329d2c6",
   "metadata": {},
   "outputs": [
    {
     "name": "stdout",
     "output_type": "stream",
     "text": [
      "94.40259789570797\n"
     ]
    }
   ],
   "source": [
    "#determinant\n",
    "print(np.linalg.det(c))"
   ]
  },
  {
   "cell_type": "code",
   "execution_count": 19,
   "id": "d0eeebe6-ea87-4028-a27e-568544dce40c",
   "metadata": {},
   "outputs": [
    {
     "name": "stdout",
     "output_type": "stream",
     "text": [
      "[[ 0.09214723  0.17099694 -0.45463131]\n",
      " [-0.0367067   0.48407958 -0.76396463]\n",
      " [ 0.01420945 -0.21567923  0.55233187]]\n"
     ]
    }
   ],
   "source": [
    "#inverse\n",
    "print(np.linalg.inv(c))"
   ]
  },
  {
   "cell_type": "markdown",
   "id": "5a75ea50-b2f0-476b-a5c8-d35b696c8dcd",
   "metadata": {},
   "source": [
    "#pandas\n"
   ]
  },
  {
   "cell_type": "code",
   "execution_count": 20,
   "id": "9a342c64-48d1-44ec-8543-04ea70b19834",
   "metadata": {},
   "outputs": [],
   "source": [
    "import pandas as pd"
   ]
  },
  {
   "cell_type": "code",
   "execution_count": 21,
   "id": "e2c9e6d2-961c-4b58-b3e7-c8b732be85df",
   "metadata": {},
   "outputs": [
    {
     "data": {
      "text/plain": [
       "0    mango\n",
       "1    apple\n",
       "2        3\n",
       "3        3\n",
       "dtype: object"
      ]
     },
     "execution_count": 21,
     "metadata": {},
     "output_type": "execute_result"
    }
   ],
   "source": [
    "l=['mango','apple',3,3]\n",
    "sr = pd.Series(l)\n",
    "sr"
   ]
  },
  {
   "cell_type": "code",
   "execution_count": 22,
   "id": "78b49355-8e9a-46b4-8a37-e2f06bf0d280",
   "metadata": {},
   "outputs": [
    {
     "data": {
      "text/html": [
       "<div>\n",
       "<style scoped>\n",
       "    .dataframe tbody tr th:only-of-type {\n",
       "        vertical-align: middle;\n",
       "    }\n",
       "\n",
       "    .dataframe tbody tr th {\n",
       "        vertical-align: top;\n",
       "    }\n",
       "\n",
       "    .dataframe thead th {\n",
       "        text-align: right;\n",
       "    }\n",
       "</style>\n",
       "<table border=\"1\" class=\"dataframe\">\n",
       "  <thead>\n",
       "    <tr style=\"text-align: right;\">\n",
       "      <th></th>\n",
       "      <th>Name</th>\n",
       "      <th>price</th>\n",
       "    </tr>\n",
       "  </thead>\n",
       "  <tbody>\n",
       "    <tr>\n",
       "      <th>0</th>\n",
       "      <td>mango</td>\n",
       "      <td>100</td>\n",
       "    </tr>\n",
       "    <tr>\n",
       "      <th>1</th>\n",
       "      <td>apple</td>\n",
       "      <td>200</td>\n",
       "    </tr>\n",
       "    <tr>\n",
       "      <th>2</th>\n",
       "      <td>orange</td>\n",
       "      <td>80</td>\n",
       "    </tr>\n",
       "  </tbody>\n",
       "</table>\n",
       "</div>"
      ],
      "text/plain": [
       "     Name  price\n",
       "0   mango    100\n",
       "1   apple    200\n",
       "2  orange     80"
      ]
     },
     "execution_count": 22,
     "metadata": {},
     "output_type": "execute_result"
    }
   ],
   "source": [
    "fruits = {'Name':['mango','apple','orange'],\n",
    "          'price':[100,200,80]\n",
    "         }\n",
    "df = pd.DataFrame(fruits)\n",
    "df"
   ]
  },
  {
   "cell_type": "code",
   "execution_count": 23,
   "id": "ffdc1c85-f5c9-4a86-8225-082763dd43de",
   "metadata": {},
   "outputs": [
    {
     "data": {
      "text/plain": [
       "['mango', 'apple', 'orange']"
      ]
     },
     "execution_count": 23,
     "metadata": {},
     "output_type": "execute_result"
    }
   ],
   "source": [
    "#indexing\n",
    "fruits['Name']"
   ]
  },
  {
   "cell_type": "code",
   "execution_count": 24,
   "id": "b1957aa6-279d-4210-a9ba-05733fcc402d",
   "metadata": {},
   "outputs": [
    {
     "data": {
      "text/plain": [
       "'apple'"
      ]
     },
     "execution_count": 24,
     "metadata": {},
     "output_type": "execute_result"
    }
   ],
   "source": [
    "#loc(key),iloc(index) method\n",
    "df.loc[1,'Name']"
   ]
  },
  {
   "cell_type": "code",
   "execution_count": 25,
   "id": "4be02433-b226-483b-a480-6c4f18b862be",
   "metadata": {},
   "outputs": [
    {
     "data": {
      "text/plain": [
       "Name     apple\n",
       "price      200\n",
       "Name: 1, dtype: object"
      ]
     },
     "execution_count": 25,
     "metadata": {},
     "output_type": "execute_result"
    }
   ],
   "source": [
    "df.loc[1,['Name','price']]"
   ]
  },
  {
   "cell_type": "code",
   "execution_count": 26,
   "id": "d69e5034-24c1-477f-b84b-5ae9739d439c",
   "metadata": {},
   "outputs": [
    {
     "data": {
      "text/plain": [
       "Name     apple\n",
       "price      200\n",
       "Name: 1, dtype: object"
      ]
     },
     "execution_count": 26,
     "metadata": {},
     "output_type": "execute_result"
    }
   ],
   "source": [
    "df.loc[1,:]\n"
   ]
  },
  {
   "cell_type": "code",
   "execution_count": 27,
   "id": "c79235a9-23b8-4238-bc13-22770ea166c6",
   "metadata": {},
   "outputs": [
    {
     "data": {
      "text/plain": [
       "Index(['Name', 'price'], dtype='object')"
      ]
     },
     "execution_count": 27,
     "metadata": {},
     "output_type": "execute_result"
    }
   ],
   "source": [
    "df.columns"
   ]
  },
  {
   "cell_type": "code",
   "execution_count": 28,
   "id": "8a0b9dfd-dcf2-4827-9b80-d0e5479b85c0",
   "metadata": {},
   "outputs": [
    {
     "data": {
      "text/plain": [
       "Name     apple\n",
       "price      200\n",
       "Name: 1, dtype: object"
      ]
     },
     "execution_count": 28,
     "metadata": {},
     "output_type": "execute_result"
    }
   ],
   "source": [
    "df.iloc[1,[0,1]]\n"
   ]
  },
  {
   "cell_type": "code",
   "execution_count": 29,
   "id": "4dc45e83-0fde-416d-b96e-3a94d4ba9ef2",
   "metadata": {},
   "outputs": [
    {
     "data": {
      "text/html": [
       "<div>\n",
       "<style scoped>\n",
       "    .dataframe tbody tr th:only-of-type {\n",
       "        vertical-align: middle;\n",
       "    }\n",
       "\n",
       "    .dataframe tbody tr th {\n",
       "        vertical-align: top;\n",
       "    }\n",
       "\n",
       "    .dataframe thead th {\n",
       "        text-align: right;\n",
       "    }\n",
       "</style>\n",
       "<table border=\"1\" class=\"dataframe\">\n",
       "  <thead>\n",
       "    <tr style=\"text-align: right;\">\n",
       "      <th></th>\n",
       "      <th>Name</th>\n",
       "      <th>price</th>\n",
       "    </tr>\n",
       "  </thead>\n",
       "  <tbody>\n",
       "    <tr>\n",
       "      <th>0</th>\n",
       "      <td>mango</td>\n",
       "      <td>100</td>\n",
       "    </tr>\n",
       "    <tr>\n",
       "      <th>1</th>\n",
       "      <td>apple</td>\n",
       "      <td>200</td>\n",
       "    </tr>\n",
       "    <tr>\n",
       "      <th>2</th>\n",
       "      <td>orange</td>\n",
       "      <td>90</td>\n",
       "    </tr>\n",
       "  </tbody>\n",
       "</table>\n",
       "</div>"
      ],
      "text/plain": [
       "     Name  price\n",
       "0   mango    100\n",
       "1   apple    200\n",
       "2  orange     90"
      ]
     },
     "execution_count": 29,
     "metadata": {},
     "output_type": "execute_result"
    }
   ],
   "source": [
    "df.loc[2,'price']=90\n",
    "df"
   ]
  },
  {
   "cell_type": "code",
   "execution_count": 30,
   "id": "ee3dfdb0-0ae9-4589-a2e2-ac9bd86e8be2",
   "metadata": {},
   "outputs": [
    {
     "data": {
      "text/html": [
       "<div>\n",
       "<style scoped>\n",
       "    .dataframe tbody tr th:only-of-type {\n",
       "        vertical-align: middle;\n",
       "    }\n",
       "\n",
       "    .dataframe tbody tr th {\n",
       "        vertical-align: top;\n",
       "    }\n",
       "\n",
       "    .dataframe thead th {\n",
       "        text-align: right;\n",
       "    }\n",
       "</style>\n",
       "<table border=\"1\" class=\"dataframe\">\n",
       "  <thead>\n",
       "    <tr style=\"text-align: right;\">\n",
       "      <th></th>\n",
       "      <th>Name</th>\n",
       "      <th>price</th>\n",
       "    </tr>\n",
       "  </thead>\n",
       "  <tbody>\n",
       "    <tr>\n",
       "      <th>0</th>\n",
       "      <td>mango</td>\n",
       "      <td>80</td>\n",
       "    </tr>\n",
       "    <tr>\n",
       "      <th>1</th>\n",
       "      <td>apple</td>\n",
       "      <td>250</td>\n",
       "    </tr>\n",
       "    <tr>\n",
       "      <th>2</th>\n",
       "      <td>orange</td>\n",
       "      <td>50</td>\n",
       "    </tr>\n",
       "  </tbody>\n",
       "</table>\n",
       "</div>"
      ],
      "text/plain": [
       "     Name  price\n",
       "0   mango     80\n",
       "1   apple    250\n",
       "2  orange     50"
      ]
     },
     "execution_count": 30,
     "metadata": {},
     "output_type": "execute_result"
    }
   ],
   "source": [
    "df.loc[:,'price']=[80,250,50]\n",
    "df"
   ]
  },
  {
   "cell_type": "code",
   "execution_count": 31,
   "id": "2df845da-76e6-42aa-b32b-47c576f9742d",
   "metadata": {},
   "outputs": [
    {
     "data": {
      "text/html": [
       "<div>\n",
       "<style scoped>\n",
       "    .dataframe tbody tr th:only-of-type {\n",
       "        vertical-align: middle;\n",
       "    }\n",
       "\n",
       "    .dataframe tbody tr th {\n",
       "        vertical-align: top;\n",
       "    }\n",
       "\n",
       "    .dataframe thead th {\n",
       "        text-align: right;\n",
       "    }\n",
       "</style>\n",
       "<table border=\"1\" class=\"dataframe\">\n",
       "  <thead>\n",
       "    <tr style=\"text-align: right;\">\n",
       "      <th></th>\n",
       "      <th>price</th>\n",
       "    </tr>\n",
       "  </thead>\n",
       "  <tbody>\n",
       "    <tr>\n",
       "      <th>count</th>\n",
       "      <td>3.000000</td>\n",
       "    </tr>\n",
       "    <tr>\n",
       "      <th>mean</th>\n",
       "      <td>126.666667</td>\n",
       "    </tr>\n",
       "    <tr>\n",
       "      <th>std</th>\n",
       "      <td>107.857931</td>\n",
       "    </tr>\n",
       "    <tr>\n",
       "      <th>min</th>\n",
       "      <td>50.000000</td>\n",
       "    </tr>\n",
       "    <tr>\n",
       "      <th>25%</th>\n",
       "      <td>65.000000</td>\n",
       "    </tr>\n",
       "    <tr>\n",
       "      <th>50%</th>\n",
       "      <td>80.000000</td>\n",
       "    </tr>\n",
       "    <tr>\n",
       "      <th>75%</th>\n",
       "      <td>165.000000</td>\n",
       "    </tr>\n",
       "    <tr>\n",
       "      <th>max</th>\n",
       "      <td>250.000000</td>\n",
       "    </tr>\n",
       "  </tbody>\n",
       "</table>\n",
       "</div>"
      ],
      "text/plain": [
       "            price\n",
       "count    3.000000\n",
       "mean   126.666667\n",
       "std    107.857931\n",
       "min     50.000000\n",
       "25%     65.000000\n",
       "50%     80.000000\n",
       "75%    165.000000\n",
       "max    250.000000"
      ]
     },
     "execution_count": 31,
     "metadata": {},
     "output_type": "execute_result"
    }
   ],
   "source": [
    "#describe method\n",
    "df.describe()"
   ]
  },
  {
   "cell_type": "code",
   "execution_count": 32,
   "id": "6052d2db-3c96-4b6e-a324-e1a4a4a9b5db",
   "metadata": {},
   "outputs": [
    {
     "data": {
      "text/html": [
       "<div>\n",
       "<style scoped>\n",
       "    .dataframe tbody tr th:only-of-type {\n",
       "        vertical-align: middle;\n",
       "    }\n",
       "\n",
       "    .dataframe tbody tr th {\n",
       "        vertical-align: top;\n",
       "    }\n",
       "\n",
       "    .dataframe thead th {\n",
       "        text-align: right;\n",
       "    }\n",
       "</style>\n",
       "<table border=\"1\" class=\"dataframe\">\n",
       "  <thead>\n",
       "    <tr style=\"text-align: right;\">\n",
       "      <th></th>\n",
       "      <th>Name</th>\n",
       "      <th>price</th>\n",
       "    </tr>\n",
       "  </thead>\n",
       "  <tbody>\n",
       "    <tr>\n",
       "      <th>min</th>\n",
       "      <td>apple</td>\n",
       "      <td>50</td>\n",
       "    </tr>\n",
       "    <tr>\n",
       "      <th>max</th>\n",
       "      <td>orange</td>\n",
       "      <td>250</td>\n",
       "    </tr>\n",
       "  </tbody>\n",
       "</table>\n",
       "</div>"
      ],
      "text/plain": [
       "       Name  price\n",
       "min   apple     50\n",
       "max  orange    250"
      ]
     },
     "execution_count": 32,
     "metadata": {},
     "output_type": "execute_result"
    }
   ],
   "source": [
    "df.aggregate(['min','max'])"
   ]
  },
  {
   "cell_type": "code",
   "execution_count": 33,
   "id": "7bf5367c-8d32-45eb-9be4-1d786445d26d",
   "metadata": {},
   "outputs": [
    {
     "data": {
      "text/html": [
       "<div>\n",
       "<style scoped>\n",
       "    .dataframe tbody tr th:only-of-type {\n",
       "        vertical-align: middle;\n",
       "    }\n",
       "\n",
       "    .dataframe tbody tr th {\n",
       "        vertical-align: top;\n",
       "    }\n",
       "\n",
       "    .dataframe thead th {\n",
       "        text-align: right;\n",
       "    }\n",
       "</style>\n",
       "<table border=\"1\" class=\"dataframe\">\n",
       "  <thead>\n",
       "    <tr style=\"text-align: right;\">\n",
       "      <th></th>\n",
       "      <th>seller_type</th>\n",
       "      <th>bedroom</th>\n",
       "      <th>layout_type</th>\n",
       "      <th>property_type</th>\n",
       "      <th>locality</th>\n",
       "      <th>price</th>\n",
       "      <th>area</th>\n",
       "      <th>furnish_type</th>\n",
       "      <th>bathroom</th>\n",
       "    </tr>\n",
       "  </thead>\n",
       "  <tbody>\n",
       "    <tr>\n",
       "      <th>0</th>\n",
       "      <td>OWNER</td>\n",
       "      <td>1.0</td>\n",
       "      <td>RK</td>\n",
       "      <td>Studio Apartment</td>\n",
       "      <td>Vasant Kunj</td>\n",
       "      <td>9,999</td>\n",
       "      <td>500.0</td>\n",
       "      <td>Furnished</td>\n",
       "      <td>1 bathrooms</td>\n",
       "    </tr>\n",
       "    <tr>\n",
       "      <th>1</th>\n",
       "      <td>OWNER</td>\n",
       "      <td>1.0</td>\n",
       "      <td>BHK</td>\n",
       "      <td>Apartment</td>\n",
       "      <td>Sector-B Vasant Kunj</td>\n",
       "      <td>18,500</td>\n",
       "      <td>750.0</td>\n",
       "      <td>Semi-Furnished</td>\n",
       "      <td>1 bathrooms</td>\n",
       "    </tr>\n",
       "    <tr>\n",
       "      <th>2</th>\n",
       "      <td>OWNER</td>\n",
       "      <td>2.0</td>\n",
       "      <td>BHK</td>\n",
       "      <td>Apartment</td>\n",
       "      <td>Saket</td>\n",
       "      <td>13,000</td>\n",
       "      <td>1050.0</td>\n",
       "      <td>Semi-Furnished</td>\n",
       "      <td>2 bathrooms</td>\n",
       "    </tr>\n",
       "    <tr>\n",
       "      <th>3</th>\n",
       "      <td>OWNER</td>\n",
       "      <td>1.0</td>\n",
       "      <td>BHK</td>\n",
       "      <td>Apartment</td>\n",
       "      <td>New Ashok Nagar</td>\n",
       "      <td>10,000</td>\n",
       "      <td>550.0</td>\n",
       "      <td>Furnished</td>\n",
       "      <td>1 bathrooms</td>\n",
       "    </tr>\n",
       "    <tr>\n",
       "      <th>4</th>\n",
       "      <td>OWNER</td>\n",
       "      <td>2.0</td>\n",
       "      <td>BHK</td>\n",
       "      <td>Independent Floor</td>\n",
       "      <td>laxmi nagar</td>\n",
       "      <td>13,500</td>\n",
       "      <td>648.0</td>\n",
       "      <td>Furnished</td>\n",
       "      <td>1 bathrooms</td>\n",
       "    </tr>\n",
       "    <tr>\n",
       "      <th>...</th>\n",
       "      <td>...</td>\n",
       "      <td>...</td>\n",
       "      <td>...</td>\n",
       "      <td>...</td>\n",
       "      <td>...</td>\n",
       "      <td>...</td>\n",
       "      <td>...</td>\n",
       "      <td>...</td>\n",
       "      <td>...</td>\n",
       "    </tr>\n",
       "    <tr>\n",
       "      <th>33495</th>\n",
       "      <td>OWNER</td>\n",
       "      <td>1.0</td>\n",
       "      <td>BHK</td>\n",
       "      <td>Independent Floor</td>\n",
       "      <td>Baljeet Nagar</td>\n",
       "      <td>9,500</td>\n",
       "      <td>460.0</td>\n",
       "      <td>Unfurnished</td>\n",
       "      <td>1 bathrooms</td>\n",
       "    </tr>\n",
       "    <tr>\n",
       "      <th>33496</th>\n",
       "      <td>OWNER</td>\n",
       "      <td>1.0</td>\n",
       "      <td>BHK</td>\n",
       "      <td>Independent House</td>\n",
       "      <td>Sarai Rohilla</td>\n",
       "      <td>6,500</td>\n",
       "      <td>297.0</td>\n",
       "      <td>Unfurnished</td>\n",
       "      <td>1 bathrooms</td>\n",
       "    </tr>\n",
       "    <tr>\n",
       "      <th>33497</th>\n",
       "      <td>OWNER</td>\n",
       "      <td>3.0</td>\n",
       "      <td>BHK</td>\n",
       "      <td>Independent Floor</td>\n",
       "      <td>Vishnu Garden</td>\n",
       "      <td>23,800</td>\n",
       "      <td>900.0</td>\n",
       "      <td>Semi-Furnished</td>\n",
       "      <td>2 bathrooms</td>\n",
       "    </tr>\n",
       "    <tr>\n",
       "      <th>33498</th>\n",
       "      <td>OWNER</td>\n",
       "      <td>3.0</td>\n",
       "      <td>BHK</td>\n",
       "      <td>Independent Floor</td>\n",
       "      <td>Greater Kailash</td>\n",
       "      <td>75,000</td>\n",
       "      <td>2000.0</td>\n",
       "      <td>Furnished</td>\n",
       "      <td>3 bathrooms</td>\n",
       "    </tr>\n",
       "    <tr>\n",
       "      <th>33499</th>\n",
       "      <td>OWNER</td>\n",
       "      <td>1.0</td>\n",
       "      <td>BHK</td>\n",
       "      <td>Apartment</td>\n",
       "      <td>SULTANPUR</td>\n",
       "      <td>10,000</td>\n",
       "      <td>150.0</td>\n",
       "      <td>Unfurnished</td>\n",
       "      <td>1 bathrooms</td>\n",
       "    </tr>\n",
       "  </tbody>\n",
       "</table>\n",
       "<p>33500 rows × 9 columns</p>\n",
       "</div>"
      ],
      "text/plain": [
       "      seller_type  bedroom layout_type      property_type  \\\n",
       "0           OWNER      1.0          RK   Studio Apartment   \n",
       "1           OWNER      1.0         BHK          Apartment   \n",
       "2           OWNER      2.0         BHK          Apartment   \n",
       "3           OWNER      1.0         BHK          Apartment   \n",
       "4           OWNER      2.0         BHK  Independent Floor   \n",
       "...           ...      ...         ...                ...   \n",
       "33495       OWNER      1.0         BHK  Independent Floor   \n",
       "33496       OWNER      1.0         BHK  Independent House   \n",
       "33497       OWNER      3.0         BHK  Independent Floor   \n",
       "33498       OWNER      3.0         BHK  Independent Floor   \n",
       "33499       OWNER      1.0         BHK          Apartment   \n",
       "\n",
       "                   locality   price    area    furnish_type     bathroom  \n",
       "0               Vasant Kunj   9,999   500.0       Furnished  1 bathrooms  \n",
       "1      Sector-B Vasant Kunj  18,500   750.0  Semi-Furnished  1 bathrooms  \n",
       "2                     Saket  13,000  1050.0  Semi-Furnished  2 bathrooms  \n",
       "3           New Ashok Nagar  10,000   550.0       Furnished  1 bathrooms  \n",
       "4               laxmi nagar  13,500   648.0       Furnished  1 bathrooms  \n",
       "...                     ...     ...     ...             ...          ...  \n",
       "33495         Baljeet Nagar   9,500   460.0     Unfurnished  1 bathrooms  \n",
       "33496         Sarai Rohilla   6,500   297.0     Unfurnished  1 bathrooms  \n",
       "33497         Vishnu Garden  23,800   900.0  Semi-Furnished  2 bathrooms  \n",
       "33498       Greater Kailash  75,000  2000.0       Furnished  3 bathrooms  \n",
       "33499             SULTANPUR  10,000   150.0     Unfurnished  1 bathrooms  \n",
       "\n",
       "[33500 rows x 9 columns]"
      ]
     },
     "execution_count": 33,
     "metadata": {},
     "output_type": "execute_result"
    }
   ],
   "source": [
    "csv = pd.read_csv(r'Delhi_rent.csv')\n",
    "csv"
   ]
  },
  {
   "cell_type": "code",
   "execution_count": 34,
   "id": "185703df-6ed2-429f-8f57-aa245c8805ad",
   "metadata": {},
   "outputs": [
    {
     "data": {
      "text/plain": [
       "0         9999.0\n",
       "1        18500.0\n",
       "2        13000.0\n",
       "3        10000.0\n",
       "4        13500.0\n",
       "          ...   \n",
       "33495     9500.0\n",
       "33496     6500.0\n",
       "33497    23800.0\n",
       "33498    75000.0\n",
       "33499    10000.0\n",
       "Name: price, Length: 33500, dtype: float64"
      ]
     },
     "execution_count": 34,
     "metadata": {},
     "output_type": "execute_result"
    }
   ],
   "source": [
    "csv['price'] = csv['price'].str.replace(',','').astype(float)\n",
    "csv['price']"
   ]
  },
  {
   "cell_type": "code",
   "execution_count": 35,
   "id": "bd1d4d7d-a949-4224-8b27-ca523df403b8",
   "metadata": {},
   "outputs": [
    {
     "data": {
      "text/html": [
       "<div>\n",
       "<style scoped>\n",
       "    .dataframe tbody tr th:only-of-type {\n",
       "        vertical-align: middle;\n",
       "    }\n",
       "\n",
       "    .dataframe tbody tr th {\n",
       "        vertical-align: top;\n",
       "    }\n",
       "\n",
       "    .dataframe thead th {\n",
       "        text-align: right;\n",
       "    }\n",
       "</style>\n",
       "<table border=\"1\" class=\"dataframe\">\n",
       "  <thead>\n",
       "    <tr style=\"text-align: right;\">\n",
       "      <th></th>\n",
       "      <th>seller_type</th>\n",
       "      <th>bedroom</th>\n",
       "      <th>layout_type</th>\n",
       "      <th>property_type</th>\n",
       "      <th>locality</th>\n",
       "      <th>price</th>\n",
       "      <th>area</th>\n",
       "      <th>furnish_type</th>\n",
       "      <th>bathroom</th>\n",
       "      <th>avg_rent</th>\n",
       "    </tr>\n",
       "  </thead>\n",
       "  <tbody>\n",
       "    <tr>\n",
       "      <th>0</th>\n",
       "      <td>OWNER</td>\n",
       "      <td>1.0</td>\n",
       "      <td>RK</td>\n",
       "      <td>Studio Apartment</td>\n",
       "      <td>Vasant Kunj</td>\n",
       "      <td>9999.0</td>\n",
       "      <td>500.0</td>\n",
       "      <td>Furnished</td>\n",
       "      <td>1 bathrooms</td>\n",
       "      <td>0.050005</td>\n",
       "    </tr>\n",
       "    <tr>\n",
       "      <th>1</th>\n",
       "      <td>OWNER</td>\n",
       "      <td>1.0</td>\n",
       "      <td>BHK</td>\n",
       "      <td>Apartment</td>\n",
       "      <td>Sector-B Vasant Kunj</td>\n",
       "      <td>18500.0</td>\n",
       "      <td>750.0</td>\n",
       "      <td>Semi-Furnished</td>\n",
       "      <td>1 bathrooms</td>\n",
       "      <td>0.040541</td>\n",
       "    </tr>\n",
       "    <tr>\n",
       "      <th>2</th>\n",
       "      <td>OWNER</td>\n",
       "      <td>2.0</td>\n",
       "      <td>BHK</td>\n",
       "      <td>Apartment</td>\n",
       "      <td>Saket</td>\n",
       "      <td>13000.0</td>\n",
       "      <td>1050.0</td>\n",
       "      <td>Semi-Furnished</td>\n",
       "      <td>2 bathrooms</td>\n",
       "      <td>0.080769</td>\n",
       "    </tr>\n",
       "    <tr>\n",
       "      <th>3</th>\n",
       "      <td>OWNER</td>\n",
       "      <td>1.0</td>\n",
       "      <td>BHK</td>\n",
       "      <td>Apartment</td>\n",
       "      <td>New Ashok Nagar</td>\n",
       "      <td>10000.0</td>\n",
       "      <td>550.0</td>\n",
       "      <td>Furnished</td>\n",
       "      <td>1 bathrooms</td>\n",
       "      <td>0.055000</td>\n",
       "    </tr>\n",
       "    <tr>\n",
       "      <th>4</th>\n",
       "      <td>OWNER</td>\n",
       "      <td>2.0</td>\n",
       "      <td>BHK</td>\n",
       "      <td>Independent Floor</td>\n",
       "      <td>laxmi nagar</td>\n",
       "      <td>13500.0</td>\n",
       "      <td>648.0</td>\n",
       "      <td>Furnished</td>\n",
       "      <td>1 bathrooms</td>\n",
       "      <td>0.048000</td>\n",
       "    </tr>\n",
       "    <tr>\n",
       "      <th>...</th>\n",
       "      <td>...</td>\n",
       "      <td>...</td>\n",
       "      <td>...</td>\n",
       "      <td>...</td>\n",
       "      <td>...</td>\n",
       "      <td>...</td>\n",
       "      <td>...</td>\n",
       "      <td>...</td>\n",
       "      <td>...</td>\n",
       "      <td>...</td>\n",
       "    </tr>\n",
       "    <tr>\n",
       "      <th>33495</th>\n",
       "      <td>OWNER</td>\n",
       "      <td>1.0</td>\n",
       "      <td>BHK</td>\n",
       "      <td>Independent Floor</td>\n",
       "      <td>Baljeet Nagar</td>\n",
       "      <td>9500.0</td>\n",
       "      <td>460.0</td>\n",
       "      <td>Unfurnished</td>\n",
       "      <td>1 bathrooms</td>\n",
       "      <td>0.048421</td>\n",
       "    </tr>\n",
       "    <tr>\n",
       "      <th>33496</th>\n",
       "      <td>OWNER</td>\n",
       "      <td>1.0</td>\n",
       "      <td>BHK</td>\n",
       "      <td>Independent House</td>\n",
       "      <td>Sarai Rohilla</td>\n",
       "      <td>6500.0</td>\n",
       "      <td>297.0</td>\n",
       "      <td>Unfurnished</td>\n",
       "      <td>1 bathrooms</td>\n",
       "      <td>0.045692</td>\n",
       "    </tr>\n",
       "    <tr>\n",
       "      <th>33497</th>\n",
       "      <td>OWNER</td>\n",
       "      <td>3.0</td>\n",
       "      <td>BHK</td>\n",
       "      <td>Independent Floor</td>\n",
       "      <td>Vishnu Garden</td>\n",
       "      <td>23800.0</td>\n",
       "      <td>900.0</td>\n",
       "      <td>Semi-Furnished</td>\n",
       "      <td>2 bathrooms</td>\n",
       "      <td>0.037815</td>\n",
       "    </tr>\n",
       "    <tr>\n",
       "      <th>33498</th>\n",
       "      <td>OWNER</td>\n",
       "      <td>3.0</td>\n",
       "      <td>BHK</td>\n",
       "      <td>Independent Floor</td>\n",
       "      <td>Greater Kailash</td>\n",
       "      <td>75000.0</td>\n",
       "      <td>2000.0</td>\n",
       "      <td>Furnished</td>\n",
       "      <td>3 bathrooms</td>\n",
       "      <td>0.026667</td>\n",
       "    </tr>\n",
       "    <tr>\n",
       "      <th>33499</th>\n",
       "      <td>OWNER</td>\n",
       "      <td>1.0</td>\n",
       "      <td>BHK</td>\n",
       "      <td>Apartment</td>\n",
       "      <td>SULTANPUR</td>\n",
       "      <td>10000.0</td>\n",
       "      <td>150.0</td>\n",
       "      <td>Unfurnished</td>\n",
       "      <td>1 bathrooms</td>\n",
       "      <td>0.015000</td>\n",
       "    </tr>\n",
       "  </tbody>\n",
       "</table>\n",
       "<p>33500 rows × 10 columns</p>\n",
       "</div>"
      ],
      "text/plain": [
       "      seller_type  bedroom layout_type      property_type  \\\n",
       "0           OWNER      1.0          RK   Studio Apartment   \n",
       "1           OWNER      1.0         BHK          Apartment   \n",
       "2           OWNER      2.0         BHK          Apartment   \n",
       "3           OWNER      1.0         BHK          Apartment   \n",
       "4           OWNER      2.0         BHK  Independent Floor   \n",
       "...           ...      ...         ...                ...   \n",
       "33495       OWNER      1.0         BHK  Independent Floor   \n",
       "33496       OWNER      1.0         BHK  Independent House   \n",
       "33497       OWNER      3.0         BHK  Independent Floor   \n",
       "33498       OWNER      3.0         BHK  Independent Floor   \n",
       "33499       OWNER      1.0         BHK          Apartment   \n",
       "\n",
       "                   locality    price    area    furnish_type     bathroom  \\\n",
       "0               Vasant Kunj   9999.0   500.0       Furnished  1 bathrooms   \n",
       "1      Sector-B Vasant Kunj  18500.0   750.0  Semi-Furnished  1 bathrooms   \n",
       "2                     Saket  13000.0  1050.0  Semi-Furnished  2 bathrooms   \n",
       "3           New Ashok Nagar  10000.0   550.0       Furnished  1 bathrooms   \n",
       "4               laxmi nagar  13500.0   648.0       Furnished  1 bathrooms   \n",
       "...                     ...      ...     ...             ...          ...   \n",
       "33495         Baljeet Nagar   9500.0   460.0     Unfurnished  1 bathrooms   \n",
       "33496         Sarai Rohilla   6500.0   297.0     Unfurnished  1 bathrooms   \n",
       "33497         Vishnu Garden  23800.0   900.0  Semi-Furnished  2 bathrooms   \n",
       "33498       Greater Kailash  75000.0  2000.0       Furnished  3 bathrooms   \n",
       "33499             SULTANPUR  10000.0   150.0     Unfurnished  1 bathrooms   \n",
       "\n",
       "       avg_rent  \n",
       "0      0.050005  \n",
       "1      0.040541  \n",
       "2      0.080769  \n",
       "3      0.055000  \n",
       "4      0.048000  \n",
       "...         ...  \n",
       "33495  0.048421  \n",
       "33496  0.045692  \n",
       "33497  0.037815  \n",
       "33498  0.026667  \n",
       "33499  0.015000  \n",
       "\n",
       "[33500 rows x 10 columns]"
      ]
     },
     "execution_count": 35,
     "metadata": {},
     "output_type": "execute_result"
    }
   ],
   "source": [
    "csv['avg_rent'] = csv['area']/csv['price']\n",
    "csv"
   ]
  },
  {
   "cell_type": "code",
   "execution_count": 36,
   "id": "ac40c488-cb01-466f-ac53-17c3d8ef260e",
   "metadata": {},
   "outputs": [
    {
     "data": {
      "text/plain": [
       "<Axes: xlabel='furnish_type', ylabel='price'>"
      ]
     },
     "execution_count": 36,
     "metadata": {},
     "output_type": "execute_result"
    },
    {
     "data": {
      "image/png": "[encoded data removed]",
      "text/plain": [
       "<Figure size 640x480 with 1 Axes>"
      ]
     },
     "metadata": {},
     "output_type": "display_data"
    }
   ],
   "source": [
    "sns.boxplot(y='price',x='furnish_type',hue='property_type',data=csv.head(50))\n"
   ]
  },
  {
   "cell_type": "code",
   "execution_count": 37,
   "id": "1f3bef02-2ce5-4ed8-87cb-87308ffdfccf",
   "metadata": {},
   "outputs": [
    {
     "data": {
      "text/html": [
       "<div>\n",
       "<style scoped>\n",
       "    .dataframe tbody tr th:only-of-type {\n",
       "        vertical-align: middle;\n",
       "    }\n",
       "\n",
       "    .dataframe tbody tr th {\n",
       "        vertical-align: top;\n",
       "    }\n",
       "\n",
       "    .dataframe thead th {\n",
       "        text-align: right;\n",
       "    }\n",
       "</style>\n",
       "<table border=\"1\" class=\"dataframe\">\n",
       "  <thead>\n",
       "    <tr style=\"text-align: right;\">\n",
       "      <th></th>\n",
       "      <th>seller_type</th>\n",
       "      <th>bedroom</th>\n",
       "      <th>layout_type</th>\n",
       "      <th>property_type</th>\n",
       "      <th>locality</th>\n",
       "      <th>price</th>\n",
       "      <th>area</th>\n",
       "      <th>furnish_type</th>\n",
       "      <th>bathroom</th>\n",
       "      <th>avg_rent</th>\n",
       "    </tr>\n",
       "  </thead>\n",
       "  <tbody>\n",
       "    <tr>\n",
       "      <th>0</th>\n",
       "      <td>OWNER</td>\n",
       "      <td>1.0</td>\n",
       "      <td>RK</td>\n",
       "      <td>Studio Apartment</td>\n",
       "      <td>Vasant Kunj</td>\n",
       "      <td>9999.00</td>\n",
       "      <td>500.0</td>\n",
       "      <td>Furnished</td>\n",
       "      <td>1 bathrooms</td>\n",
       "      <td>0.050005</td>\n",
       "    </tr>\n",
       "    <tr>\n",
       "      <th>1</th>\n",
       "      <td>OWNER</td>\n",
       "      <td>1.0</td>\n",
       "      <td>BHK</td>\n",
       "      <td>Apartment</td>\n",
       "      <td>Sector-B Vasant Kunj</td>\n",
       "      <td>18500.00</td>\n",
       "      <td>750.0</td>\n",
       "      <td>Semi-Furnished</td>\n",
       "      <td>1 bathrooms</td>\n",
       "      <td>0.040541</td>\n",
       "    </tr>\n",
       "    <tr>\n",
       "      <th>2</th>\n",
       "      <td>OWNER</td>\n",
       "      <td>2.0</td>\n",
       "      <td>BHK</td>\n",
       "      <td>Apartment</td>\n",
       "      <td>Saket</td>\n",
       "      <td>13000.00</td>\n",
       "      <td>1050.0</td>\n",
       "      <td>Semi-Furnished</td>\n",
       "      <td>2 bathrooms</td>\n",
       "      <td>0.080769</td>\n",
       "    </tr>\n",
       "    <tr>\n",
       "      <th>3</th>\n",
       "      <td>OWNER</td>\n",
       "      <td>1.0</td>\n",
       "      <td>BHK</td>\n",
       "      <td>Apartment</td>\n",
       "      <td>New Ashok Nagar</td>\n",
       "      <td>10000.00</td>\n",
       "      <td>550.0</td>\n",
       "      <td>Furnished</td>\n",
       "      <td>1 bathrooms</td>\n",
       "      <td>0.055000</td>\n",
       "    </tr>\n",
       "    <tr>\n",
       "      <th>4</th>\n",
       "      <td>OWNER</td>\n",
       "      <td>2.0</td>\n",
       "      <td>BHK</td>\n",
       "      <td>Independent Floor</td>\n",
       "      <td>laxmi nagar</td>\n",
       "      <td>13500.00</td>\n",
       "      <td>648.0</td>\n",
       "      <td>Furnished</td>\n",
       "      <td>1 bathrooms</td>\n",
       "      <td>0.048000</td>\n",
       "    </tr>\n",
       "    <tr>\n",
       "      <th>5</th>\n",
       "      <td>OWNER</td>\n",
       "      <td>3.0</td>\n",
       "      <td>BHK</td>\n",
       "      <td>Independent Floor</td>\n",
       "      <td>Malviya Nagar</td>\n",
       "      <td>65000.00</td>\n",
       "      <td>1500.0</td>\n",
       "      <td>Semi-Furnished</td>\n",
       "      <td>2 bathrooms</td>\n",
       "      <td>0.023077</td>\n",
       "    </tr>\n",
       "    <tr>\n",
       "      <th>6</th>\n",
       "      <td>OWNER</td>\n",
       "      <td>2.0</td>\n",
       "      <td>BHK</td>\n",
       "      <td>Independent Floor</td>\n",
       "      <td>Sector-17 Rohini</td>\n",
       "      <td>16000.00</td>\n",
       "      <td>659.0</td>\n",
       "      <td>Semi-Furnished</td>\n",
       "      <td>2 bathrooms</td>\n",
       "      <td>0.041188</td>\n",
       "    </tr>\n",
       "    <tr>\n",
       "      <th>7</th>\n",
       "      <td>OWNER</td>\n",
       "      <td>2.0</td>\n",
       "      <td>BHK</td>\n",
       "      <td>Independent Floor</td>\n",
       "      <td>Khanpur</td>\n",
       "      <td>9500.00</td>\n",
       "      <td>700.0</td>\n",
       "      <td>Unfurnished</td>\n",
       "      <td>2 bathrooms</td>\n",
       "      <td>0.073684</td>\n",
       "    </tr>\n",
       "    <tr>\n",
       "      <th>8</th>\n",
       "      <td>OWNER</td>\n",
       "      <td>2.0</td>\n",
       "      <td>BHK</td>\n",
       "      <td>Independent Floor</td>\n",
       "      <td>Pitampura</td>\n",
       "      <td>16000.00</td>\n",
       "      <td>684.0</td>\n",
       "      <td>Unfurnished</td>\n",
       "      <td>1 bathrooms</td>\n",
       "      <td>0.042750</td>\n",
       "    </tr>\n",
       "    <tr>\n",
       "      <th>9</th>\n",
       "      <td>OWNER</td>\n",
       "      <td>1.0</td>\n",
       "      <td>BHK</td>\n",
       "      <td>Independent Floor</td>\n",
       "      <td>Uttam Nagar</td>\n",
       "      <td>7500.00</td>\n",
       "      <td>450.0</td>\n",
       "      <td>Unfurnished</td>\n",
       "      <td>1 bathrooms</td>\n",
       "      <td>0.060000</td>\n",
       "    </tr>\n",
       "    <tr>\n",
       "      <th>10</th>\n",
       "      <td>OWNER</td>\n",
       "      <td>2.0</td>\n",
       "      <td>BHK</td>\n",
       "      <td>Independent Floor</td>\n",
       "      <td>Janakpuri</td>\n",
       "      <td>21000.00</td>\n",
       "      <td>750.0</td>\n",
       "      <td>Semi-Furnished</td>\n",
       "      <td>2 bathrooms</td>\n",
       "      <td>0.035714</td>\n",
       "    </tr>\n",
       "    <tr>\n",
       "      <th>11</th>\n",
       "      <td>OWNER</td>\n",
       "      <td>1.0</td>\n",
       "      <td>BHK</td>\n",
       "      <td>Independent Floor</td>\n",
       "      <td>vikaspuri</td>\n",
       "      <td>13000.00</td>\n",
       "      <td>450.0</td>\n",
       "      <td>Furnished</td>\n",
       "      <td>1 bathrooms</td>\n",
       "      <td>0.034615</td>\n",
       "    </tr>\n",
       "    <tr>\n",
       "      <th>12</th>\n",
       "      <td>OWNER</td>\n",
       "      <td>1.0</td>\n",
       "      <td>RK</td>\n",
       "      <td>Studio Apartment</td>\n",
       "      <td>Shadipur</td>\n",
       "      <td>9000.00</td>\n",
       "      <td>560.0</td>\n",
       "      <td>Semi-Furnished</td>\n",
       "      <td>1 bathrooms</td>\n",
       "      <td>0.062222</td>\n",
       "    </tr>\n",
       "    <tr>\n",
       "      <th>13</th>\n",
       "      <td>OWNER</td>\n",
       "      <td>3.0</td>\n",
       "      <td>BHK</td>\n",
       "      <td>Independent House</td>\n",
       "      <td>Karol Bagh</td>\n",
       "      <td>25000.00</td>\n",
       "      <td>891.0</td>\n",
       "      <td>Semi-Furnished</td>\n",
       "      <td>2 bathrooms</td>\n",
       "      <td>0.035640</td>\n",
       "    </tr>\n",
       "    <tr>\n",
       "      <th>14</th>\n",
       "      <td>OWNER</td>\n",
       "      <td>3.0</td>\n",
       "      <td>BHK</td>\n",
       "      <td>Independent Floor</td>\n",
       "      <td>Palam</td>\n",
       "      <td>14000.00</td>\n",
       "      <td>800.0</td>\n",
       "      <td>Semi-Furnished</td>\n",
       "      <td>2 bathrooms</td>\n",
       "      <td>0.057143</td>\n",
       "    </tr>\n",
       "    <tr>\n",
       "      <th>15</th>\n",
       "      <td>OWNER</td>\n",
       "      <td>1.0</td>\n",
       "      <td>BHK</td>\n",
       "      <td>Independent House</td>\n",
       "      <td>Baprola</td>\n",
       "      <td>6500.00</td>\n",
       "      <td>400.0</td>\n",
       "      <td>Semi-Furnished</td>\n",
       "      <td>2 bathrooms</td>\n",
       "      <td>0.061538</td>\n",
       "    </tr>\n",
       "    <tr>\n",
       "      <th>16</th>\n",
       "      <td>OWNER</td>\n",
       "      <td>3.0</td>\n",
       "      <td>BHK</td>\n",
       "      <td>Independent Floor</td>\n",
       "      <td>Burari</td>\n",
       "      <td>17000.00</td>\n",
       "      <td>1000.0</td>\n",
       "      <td>Unfurnished</td>\n",
       "      <td>2 bathrooms</td>\n",
       "      <td>0.058824</td>\n",
       "    </tr>\n",
       "    <tr>\n",
       "      <th>17</th>\n",
       "      <td>OWNER</td>\n",
       "      <td>2.0</td>\n",
       "      <td>BHK</td>\n",
       "      <td>Independent House</td>\n",
       "      <td>Pochanpur Colony</td>\n",
       "      <td>15000.00</td>\n",
       "      <td>850.0</td>\n",
       "      <td>Semi-Furnished</td>\n",
       "      <td>2 bathrooms</td>\n",
       "      <td>0.056667</td>\n",
       "    </tr>\n",
       "    <tr>\n",
       "      <th>18</th>\n",
       "      <td>OWNER</td>\n",
       "      <td>2.0</td>\n",
       "      <td>BHK</td>\n",
       "      <td>Independent Floor</td>\n",
       "      <td>Kalkaji</td>\n",
       "      <td>18000.00</td>\n",
       "      <td>1050.0</td>\n",
       "      <td>Semi-Furnished</td>\n",
       "      <td>2 bathrooms</td>\n",
       "      <td>0.058333</td>\n",
       "    </tr>\n",
       "    <tr>\n",
       "      <th>19</th>\n",
       "      <td>OWNER</td>\n",
       "      <td>2.0</td>\n",
       "      <td>BHK</td>\n",
       "      <td>Apartment</td>\n",
       "      <td>Palam</td>\n",
       "      <td>12000.00</td>\n",
       "      <td>780.0</td>\n",
       "      <td>Semi-Furnished</td>\n",
       "      <td>2 bathrooms</td>\n",
       "      <td>0.065000</td>\n",
       "    </tr>\n",
       "    <tr>\n",
       "      <th>20</th>\n",
       "      <td>OWNER</td>\n",
       "      <td>1.0</td>\n",
       "      <td>RK</td>\n",
       "      <td>Studio Apartment</td>\n",
       "      <td>Munirka</td>\n",
       "      <td>7000.00</td>\n",
       "      <td>150.0</td>\n",
       "      <td>Semi-Furnished</td>\n",
       "      <td>1 bathrooms</td>\n",
       "      <td>0.021429</td>\n",
       "    </tr>\n",
       "    <tr>\n",
       "      <th>21</th>\n",
       "      <td>OWNER</td>\n",
       "      <td>1.0</td>\n",
       "      <td>BHK</td>\n",
       "      <td>Independent Floor</td>\n",
       "      <td>Lajpat Nagar</td>\n",
       "      <td>7500.00</td>\n",
       "      <td>750.0</td>\n",
       "      <td>Furnished</td>\n",
       "      <td>1 bathrooms</td>\n",
       "      <td>0.100000</td>\n",
       "    </tr>\n",
       "    <tr>\n",
       "      <th>22</th>\n",
       "      <td>AGENT</td>\n",
       "      <td>1.0</td>\n",
       "      <td>BHK</td>\n",
       "      <td>Independent Floor</td>\n",
       "      <td>New Ashok Nagar</td>\n",
       "      <td>11000.00</td>\n",
       "      <td>450.0</td>\n",
       "      <td>Semi-Furnished</td>\n",
       "      <td>1 bathrooms</td>\n",
       "      <td>0.040909</td>\n",
       "    </tr>\n",
       "    <tr>\n",
       "      <th>23</th>\n",
       "      <td>AGENT</td>\n",
       "      <td>1.0</td>\n",
       "      <td>BHK</td>\n",
       "      <td>Independent Floor</td>\n",
       "      <td>Lajpat Nagar</td>\n",
       "      <td>16000.00</td>\n",
       "      <td>500.0</td>\n",
       "      <td>Furnished</td>\n",
       "      <td>1 bathrooms</td>\n",
       "      <td>0.031250</td>\n",
       "    </tr>\n",
       "    <tr>\n",
       "      <th>24</th>\n",
       "      <td>OWNER</td>\n",
       "      <td>4.0</td>\n",
       "      <td>BHK</td>\n",
       "      <td>Independent Floor</td>\n",
       "      <td>Dr Mukherji Nagar</td>\n",
       "      <td>32000.00</td>\n",
       "      <td>1200.0</td>\n",
       "      <td>Unfurnished</td>\n",
       "      <td>2 bathrooms</td>\n",
       "      <td>0.037500</td>\n",
       "    </tr>\n",
       "    <tr>\n",
       "      <th>25</th>\n",
       "      <td>AGENT</td>\n",
       "      <td>3.0</td>\n",
       "      <td>BHK</td>\n",
       "      <td>Apartment</td>\n",
       "      <td>Vasant Vihar</td>\n",
       "      <td>1.25</td>\n",
       "      <td>2500.0</td>\n",
       "      <td>Furnished</td>\n",
       "      <td>3 bathrooms</td>\n",
       "      <td>2000.000000</td>\n",
       "    </tr>\n",
       "    <tr>\n",
       "      <th>26</th>\n",
       "      <td>AGENT</td>\n",
       "      <td>3.0</td>\n",
       "      <td>BHK</td>\n",
       "      <td>Apartment</td>\n",
       "      <td>Sector 22 Dwarka</td>\n",
       "      <td>30000.00</td>\n",
       "      <td>1800.0</td>\n",
       "      <td>Semi-Furnished</td>\n",
       "      <td>3 bathrooms</td>\n",
       "      <td>0.060000</td>\n",
       "    </tr>\n",
       "    <tr>\n",
       "      <th>27</th>\n",
       "      <td>AGENT</td>\n",
       "      <td>3.0</td>\n",
       "      <td>BHK</td>\n",
       "      <td>Apartment</td>\n",
       "      <td>Sector 6 Dwarka</td>\n",
       "      <td>32000.00</td>\n",
       "      <td>1750.0</td>\n",
       "      <td>Semi-Furnished</td>\n",
       "      <td>2 bathrooms</td>\n",
       "      <td>0.054688</td>\n",
       "    </tr>\n",
       "    <tr>\n",
       "      <th>28</th>\n",
       "      <td>OWNER</td>\n",
       "      <td>3.0</td>\n",
       "      <td>BHK</td>\n",
       "      <td>Independent Floor</td>\n",
       "      <td>Model Town</td>\n",
       "      <td>30000.00</td>\n",
       "      <td>1300.0</td>\n",
       "      <td>Unfurnished</td>\n",
       "      <td>3 bathrooms</td>\n",
       "      <td>0.043333</td>\n",
       "    </tr>\n",
       "    <tr>\n",
       "      <th>29</th>\n",
       "      <td>OWNER</td>\n",
       "      <td>2.0</td>\n",
       "      <td>BHK</td>\n",
       "      <td>Apartment</td>\n",
       "      <td>Ghitorni</td>\n",
       "      <td>22000.00</td>\n",
       "      <td>1450.0</td>\n",
       "      <td>Semi-Furnished</td>\n",
       "      <td>2 bathrooms</td>\n",
       "      <td>0.065909</td>\n",
       "    </tr>\n",
       "    <tr>\n",
       "      <th>30</th>\n",
       "      <td>AGENT</td>\n",
       "      <td>2.0</td>\n",
       "      <td>BHK</td>\n",
       "      <td>Apartment</td>\n",
       "      <td>New Ashok Nagar</td>\n",
       "      <td>12000.00</td>\n",
       "      <td>650.0</td>\n",
       "      <td>Semi-Furnished</td>\n",
       "      <td>2 bathrooms</td>\n",
       "      <td>0.054167</td>\n",
       "    </tr>\n",
       "    <tr>\n",
       "      <th>31</th>\n",
       "      <td>AGENT</td>\n",
       "      <td>2.0</td>\n",
       "      <td>BHK</td>\n",
       "      <td>Independent Floor</td>\n",
       "      <td>Sector 23 Dwarka</td>\n",
       "      <td>14000.00</td>\n",
       "      <td>980.0</td>\n",
       "      <td>Semi-Furnished</td>\n",
       "      <td>2 bathrooms</td>\n",
       "      <td>0.070000</td>\n",
       "    </tr>\n",
       "    <tr>\n",
       "      <th>32</th>\n",
       "      <td>OWNER</td>\n",
       "      <td>1.0</td>\n",
       "      <td>BHK</td>\n",
       "      <td>Independent Floor</td>\n",
       "      <td>Dwarka Mor</td>\n",
       "      <td>7500.00</td>\n",
       "      <td>550.0</td>\n",
       "      <td>Semi-Furnished</td>\n",
       "      <td>1 bathrooms</td>\n",
       "      <td>0.073333</td>\n",
       "    </tr>\n",
       "    <tr>\n",
       "      <th>33</th>\n",
       "      <td>OWNER</td>\n",
       "      <td>2.0</td>\n",
       "      <td>BHK</td>\n",
       "      <td>Independent Floor</td>\n",
       "      <td>laxmi nagar</td>\n",
       "      <td>13000.00</td>\n",
       "      <td>630.0</td>\n",
       "      <td>Semi-Furnished</td>\n",
       "      <td>1 bathrooms</td>\n",
       "      <td>0.048462</td>\n",
       "    </tr>\n",
       "    <tr>\n",
       "      <th>34</th>\n",
       "      <td>OWNER</td>\n",
       "      <td>3.0</td>\n",
       "      <td>BHK</td>\n",
       "      <td>Apartment</td>\n",
       "      <td>Chattarpur</td>\n",
       "      <td>22000.00</td>\n",
       "      <td>1000.0</td>\n",
       "      <td>Semi-Furnished</td>\n",
       "      <td>2 bathrooms</td>\n",
       "      <td>0.045455</td>\n",
       "    </tr>\n",
       "    <tr>\n",
       "      <th>35</th>\n",
       "      <td>AGENT</td>\n",
       "      <td>4.0</td>\n",
       "      <td>BHK</td>\n",
       "      <td>Independent Floor</td>\n",
       "      <td>Sector 8 Dwarka</td>\n",
       "      <td>30000.00</td>\n",
       "      <td>1900.0</td>\n",
       "      <td>Semi-Furnished</td>\n",
       "      <td>3 bathrooms</td>\n",
       "      <td>0.063333</td>\n",
       "    </tr>\n",
       "    <tr>\n",
       "      <th>36</th>\n",
       "      <td>OWNER</td>\n",
       "      <td>2.0</td>\n",
       "      <td>BHK</td>\n",
       "      <td>Independent Floor</td>\n",
       "      <td>Malviya Nagar</td>\n",
       "      <td>28000.00</td>\n",
       "      <td>1100.0</td>\n",
       "      <td>Furnished</td>\n",
       "      <td>2 bathrooms</td>\n",
       "      <td>0.039286</td>\n",
       "    </tr>\n",
       "    <tr>\n",
       "      <th>37</th>\n",
       "      <td>OWNER</td>\n",
       "      <td>2.0</td>\n",
       "      <td>BHK</td>\n",
       "      <td>Independent Floor</td>\n",
       "      <td>Wazirabad</td>\n",
       "      <td>8000.00</td>\n",
       "      <td>484.0</td>\n",
       "      <td>Unfurnished</td>\n",
       "      <td>1 bathrooms</td>\n",
       "      <td>0.060500</td>\n",
       "    </tr>\n",
       "    <tr>\n",
       "      <th>38</th>\n",
       "      <td>OWNER</td>\n",
       "      <td>2.0</td>\n",
       "      <td>BHK</td>\n",
       "      <td>Independent Floor</td>\n",
       "      <td>Mahavir Enclave</td>\n",
       "      <td>15000.00</td>\n",
       "      <td>800.0</td>\n",
       "      <td>Semi-Furnished</td>\n",
       "      <td>2 bathrooms</td>\n",
       "      <td>0.053333</td>\n",
       "    </tr>\n",
       "    <tr>\n",
       "      <th>39</th>\n",
       "      <td>OWNER</td>\n",
       "      <td>2.0</td>\n",
       "      <td>BHK</td>\n",
       "      <td>Independent Floor</td>\n",
       "      <td>Dwarka Mor</td>\n",
       "      <td>13000.00</td>\n",
       "      <td>600.0</td>\n",
       "      <td>Furnished</td>\n",
       "      <td>1 bathrooms</td>\n",
       "      <td>0.046154</td>\n",
       "    </tr>\n",
       "    <tr>\n",
       "      <th>40</th>\n",
       "      <td>AGENT</td>\n",
       "      <td>3.0</td>\n",
       "      <td>BHK</td>\n",
       "      <td>Independent Floor</td>\n",
       "      <td>Neeti Bagh</td>\n",
       "      <td>80000.00</td>\n",
       "      <td>2000.0</td>\n",
       "      <td>Semi-Furnished</td>\n",
       "      <td>3 bathrooms</td>\n",
       "      <td>0.025000</td>\n",
       "    </tr>\n",
       "    <tr>\n",
       "      <th>41</th>\n",
       "      <td>AGENT</td>\n",
       "      <td>3.0</td>\n",
       "      <td>BHK</td>\n",
       "      <td>Independent Floor</td>\n",
       "      <td>Neeti Bagh</td>\n",
       "      <td>1.50</td>\n",
       "      <td>4000.0</td>\n",
       "      <td>Semi-Furnished</td>\n",
       "      <td>3 bathrooms</td>\n",
       "      <td>2666.666667</td>\n",
       "    </tr>\n",
       "    <tr>\n",
       "      <th>42</th>\n",
       "      <td>OWNER</td>\n",
       "      <td>3.0</td>\n",
       "      <td>BHK</td>\n",
       "      <td>Apartment</td>\n",
       "      <td>Vasant Kunj</td>\n",
       "      <td>41000.00</td>\n",
       "      <td>1500.0</td>\n",
       "      <td>Furnished</td>\n",
       "      <td>2 bathrooms</td>\n",
       "      <td>0.036585</td>\n",
       "    </tr>\n",
       "    <tr>\n",
       "      <th>43</th>\n",
       "      <td>AGENT</td>\n",
       "      <td>1.0</td>\n",
       "      <td>BHK</td>\n",
       "      <td>Independent House</td>\n",
       "      <td>Malviya Nagar</td>\n",
       "      <td>12000.00</td>\n",
       "      <td>500.0</td>\n",
       "      <td>Unfurnished</td>\n",
       "      <td>1 bathrooms</td>\n",
       "      <td>0.041667</td>\n",
       "    </tr>\n",
       "    <tr>\n",
       "      <th>44</th>\n",
       "      <td>OWNER</td>\n",
       "      <td>1.0</td>\n",
       "      <td>RK</td>\n",
       "      <td>Studio Apartment</td>\n",
       "      <td>Kalkaji</td>\n",
       "      <td>16000.00</td>\n",
       "      <td>280.0</td>\n",
       "      <td>Furnished</td>\n",
       "      <td>1 bathrooms</td>\n",
       "      <td>0.017500</td>\n",
       "    </tr>\n",
       "    <tr>\n",
       "      <th>45</th>\n",
       "      <td>AGENT</td>\n",
       "      <td>2.0</td>\n",
       "      <td>BHK</td>\n",
       "      <td>Independent Floor</td>\n",
       "      <td>mayur vihar phase 1</td>\n",
       "      <td>13500.00</td>\n",
       "      <td>650.0</td>\n",
       "      <td>Semi-Furnished</td>\n",
       "      <td>1 bathrooms</td>\n",
       "      <td>0.048148</td>\n",
       "    </tr>\n",
       "    <tr>\n",
       "      <th>46</th>\n",
       "      <td>AGENT</td>\n",
       "      <td>3.0</td>\n",
       "      <td>BHK</td>\n",
       "      <td>Independent Floor</td>\n",
       "      <td>Panchsheel Park</td>\n",
       "      <td>1.10</td>\n",
       "      <td>3600.0</td>\n",
       "      <td>Semi-Furnished</td>\n",
       "      <td>3 bathrooms</td>\n",
       "      <td>3272.727273</td>\n",
       "    </tr>\n",
       "    <tr>\n",
       "      <th>47</th>\n",
       "      <td>AGENT</td>\n",
       "      <td>2.0</td>\n",
       "      <td>BHK</td>\n",
       "      <td>Independent Floor</td>\n",
       "      <td>Defence Colony</td>\n",
       "      <td>72000.00</td>\n",
       "      <td>2020.0</td>\n",
       "      <td>Furnished</td>\n",
       "      <td>2 bathrooms</td>\n",
       "      <td>0.028056</td>\n",
       "    </tr>\n",
       "    <tr>\n",
       "      <th>48</th>\n",
       "      <td>OWNER</td>\n",
       "      <td>1.0</td>\n",
       "      <td>BHK</td>\n",
       "      <td>Independent Floor</td>\n",
       "      <td>Mayur Vihar Phase 3</td>\n",
       "      <td>15000.00</td>\n",
       "      <td>450.0</td>\n",
       "      <td>Semi-Furnished</td>\n",
       "      <td>1 bathrooms</td>\n",
       "      <td>0.030000</td>\n",
       "    </tr>\n",
       "    <tr>\n",
       "      <th>49</th>\n",
       "      <td>OWNER</td>\n",
       "      <td>2.0</td>\n",
       "      <td>BHK</td>\n",
       "      <td>Apartment</td>\n",
       "      <td>Sector 8 Dwarka</td>\n",
       "      <td>16500.00</td>\n",
       "      <td>750.0</td>\n",
       "      <td>Semi-Furnished</td>\n",
       "      <td>2 bathrooms</td>\n",
       "      <td>0.045455</td>\n",
       "    </tr>\n",
       "  </tbody>\n",
       "</table>\n",
       "</div>"
      ],
      "text/plain": [
       "   seller_type  bedroom layout_type      property_type              locality  \\\n",
       "0        OWNER      1.0          RK   Studio Apartment           Vasant Kunj   \n",
       "1        OWNER      1.0         BHK          Apartment  Sector-B Vasant Kunj   \n",
       "2        OWNER      2.0         BHK          Apartment                 Saket   \n",
       "3        OWNER      1.0         BHK          Apartment       New Ashok Nagar   \n",
       "4        OWNER      2.0         BHK  Independent Floor           laxmi nagar   \n",
       "5        OWNER      3.0         BHK  Independent Floor         Malviya Nagar   \n",
       "6        OWNER      2.0         BHK  Independent Floor      Sector-17 Rohini   \n",
       "7        OWNER      2.0         BHK  Independent Floor               Khanpur   \n",
       "8        OWNER      2.0         BHK  Independent Floor             Pitampura   \n",
       "9        OWNER      1.0         BHK  Independent Floor           Uttam Nagar   \n",
       "10       OWNER      2.0         BHK  Independent Floor             Janakpuri   \n",
       "11       OWNER      1.0         BHK  Independent Floor             vikaspuri   \n",
       "12       OWNER      1.0          RK   Studio Apartment              Shadipur   \n",
       "13       OWNER      3.0         BHK  Independent House            Karol Bagh   \n",
       "14       OWNER      3.0         BHK  Independent Floor                 Palam   \n",
       "15       OWNER      1.0         BHK  Independent House               Baprola   \n",
       "16       OWNER      3.0         BHK  Independent Floor                Burari   \n",
       "17       OWNER      2.0         BHK  Independent House      Pochanpur Colony   \n",
       "18       OWNER      2.0         BHK  Independent Floor               Kalkaji   \n",
       "19       OWNER      2.0         BHK          Apartment                 Palam   \n",
       "20       OWNER      1.0          RK   Studio Apartment               Munirka   \n",
       "21       OWNER      1.0         BHK  Independent Floor          Lajpat Nagar   \n",
       "22       AGENT      1.0         BHK  Independent Floor       New Ashok Nagar   \n",
       "23       AGENT      1.0         BHK  Independent Floor          Lajpat Nagar   \n",
       "24       OWNER      4.0         BHK  Independent Floor     Dr Mukherji Nagar   \n",
       "25       AGENT      3.0         BHK          Apartment          Vasant Vihar   \n",
       "26       AGENT      3.0         BHK          Apartment      Sector 22 Dwarka   \n",
       "27       AGENT      3.0         BHK          Apartment       Sector 6 Dwarka   \n",
       "28       OWNER      3.0         BHK  Independent Floor            Model Town   \n",
       "29       OWNER      2.0         BHK          Apartment              Ghitorni   \n",
       "30       AGENT      2.0         BHK          Apartment       New Ashok Nagar   \n",
       "31       AGENT      2.0         BHK  Independent Floor      Sector 23 Dwarka   \n",
       "32       OWNER      1.0         BHK  Independent Floor            Dwarka Mor   \n",
       "33       OWNER      2.0         BHK  Independent Floor           laxmi nagar   \n",
       "34       OWNER      3.0         BHK          Apartment            Chattarpur   \n",
       "35       AGENT      4.0         BHK  Independent Floor       Sector 8 Dwarka   \n",
       "36       OWNER      2.0         BHK  Independent Floor         Malviya Nagar   \n",
       "37       OWNER      2.0         BHK  Independent Floor             Wazirabad   \n",
       "38       OWNER      2.0         BHK  Independent Floor       Mahavir Enclave   \n",
       "39       OWNER      2.0         BHK  Independent Floor            Dwarka Mor   \n",
       "40       AGENT      3.0         BHK  Independent Floor            Neeti Bagh   \n",
       "41       AGENT      3.0         BHK  Independent Floor            Neeti Bagh   \n",
       "42       OWNER      3.0         BHK          Apartment           Vasant Kunj   \n",
       "43       AGENT      1.0         BHK  Independent House         Malviya Nagar   \n",
       "44       OWNER      1.0          RK   Studio Apartment               Kalkaji   \n",
       "45       AGENT      2.0         BHK  Independent Floor   mayur vihar phase 1   \n",
       "46       AGENT      3.0         BHK  Independent Floor       Panchsheel Park   \n",
       "47       AGENT      2.0         BHK  Independent Floor        Defence Colony   \n",
       "48       OWNER      1.0         BHK  Independent Floor   Mayur Vihar Phase 3   \n",
       "49       OWNER      2.0         BHK          Apartment       Sector 8 Dwarka   \n",
       "\n",
       "       price    area    furnish_type     bathroom     avg_rent  \n",
       "0    9999.00   500.0       Furnished  1 bathrooms     0.050005  \n",
       "1   18500.00   750.0  Semi-Furnished  1 bathrooms     0.040541  \n",
       "2   13000.00  1050.0  Semi-Furnished  2 bathrooms     0.080769  \n",
       "3   10000.00   550.0       Furnished  1 bathrooms     0.055000  \n",
       "4   13500.00   648.0       Furnished  1 bathrooms     0.048000  \n",
       "5   65000.00  1500.0  Semi-Furnished  2 bathrooms     0.023077  \n",
       "6   16000.00   659.0  Semi-Furnished  2 bathrooms     0.041188  \n",
       "7    9500.00   700.0     Unfurnished  2 bathrooms     0.073684  \n",
       "8   16000.00   684.0     Unfurnished  1 bathrooms     0.042750  \n",
       "9    7500.00   450.0     Unfurnished  1 bathrooms     0.060000  \n",
       "10  21000.00   750.0  Semi-Furnished  2 bathrooms     0.035714  \n",
       "11  13000.00   450.0       Furnished  1 bathrooms     0.034615  \n",
       "12   9000.00   560.0  Semi-Furnished  1 bathrooms     0.062222  \n",
       "13  25000.00   891.0  Semi-Furnished  2 bathrooms     0.035640  \n",
       "14  14000.00   800.0  Semi-Furnished  2 bathrooms     0.057143  \n",
       "15   6500.00   400.0  Semi-Furnished  2 bathrooms     0.061538  \n",
       "16  17000.00  1000.0     Unfurnished  2 bathrooms     0.058824  \n",
       "17  15000.00   850.0  Semi-Furnished  2 bathrooms     0.056667  \n",
       "18  18000.00  1050.0  Semi-Furnished  2 bathrooms     0.058333  \n",
       "19  12000.00   780.0  Semi-Furnished  2 bathrooms     0.065000  \n",
       "20   7000.00   150.0  Semi-Furnished  1 bathrooms     0.021429  \n",
       "21   7500.00   750.0       Furnished  1 bathrooms     0.100000  \n",
       "22  11000.00   450.0  Semi-Furnished  1 bathrooms     0.040909  \n",
       "23  16000.00   500.0       Furnished  1 bathrooms     0.031250  \n",
       "24  32000.00  1200.0     Unfurnished  2 bathrooms     0.037500  \n",
       "25      1.25  2500.0       Furnished  3 bathrooms  2000.000000  \n",
       "26  30000.00  1800.0  Semi-Furnished  3 bathrooms     0.060000  \n",
       "27  32000.00  1750.0  Semi-Furnished  2 bathrooms     0.054688  \n",
       "28  30000.00  1300.0     Unfurnished  3 bathrooms     0.043333  \n",
       "29  22000.00  1450.0  Semi-Furnished  2 bathrooms     0.065909  \n",
       "30  12000.00   650.0  Semi-Furnished  2 bathrooms     0.054167  \n",
       "31  14000.00   980.0  Semi-Furnished  2 bathrooms     0.070000  \n",
       "32   7500.00   550.0  Semi-Furnished  1 bathrooms     0.073333  \n",
       "33  13000.00   630.0  Semi-Furnished  1 bathrooms     0.048462  \n",
       "34  22000.00  1000.0  Semi-Furnished  2 bathrooms     0.045455  \n",
       "35  30000.00  1900.0  Semi-Furnished  3 bathrooms     0.063333  \n",
       "36  28000.00  1100.0       Furnished  2 bathrooms     0.039286  \n",
       "37   8000.00   484.0     Unfurnished  1 bathrooms     0.060500  \n",
       "38  15000.00   800.0  Semi-Furnished  2 bathrooms     0.053333  \n",
       "39  13000.00   600.0       Furnished  1 bathrooms     0.046154  \n",
       "40  80000.00  2000.0  Semi-Furnished  3 bathrooms     0.025000  \n",
       "41      1.50  4000.0  Semi-Furnished  3 bathrooms  2666.666667  \n",
       "42  41000.00  1500.0       Furnished  2 bathrooms     0.036585  \n",
       "43  12000.00   500.0     Unfurnished  1 bathrooms     0.041667  \n",
       "44  16000.00   280.0       Furnished  1 bathrooms     0.017500  \n",
       "45  13500.00   650.0  Semi-Furnished  1 bathrooms     0.048148  \n",
       "46      1.10  3600.0  Semi-Furnished  3 bathrooms  3272.727273  \n",
       "47  72000.00  2020.0       Furnished  2 bathrooms     0.028056  \n",
       "48  15000.00   450.0  Semi-Furnished  1 bathrooms     0.030000  \n",
       "49  16500.00   750.0  Semi-Furnished  2 bathrooms     0.045455  "
      ]
     },
     "execution_count": 37,
     "metadata": {},
     "output_type": "execute_result"
    }
   ],
   "source": [
    "csv.head(50)"
   ]
  },
  {
   "cell_type": "code",
   "execution_count": 38,
   "id": "dd0e5bba-e3e6-432d-aac8-51d537c0c5b5",
   "metadata": {},
   "outputs": [
    {
     "name": "stderr",
     "output_type": "stream",
     "text": [
      "C:\\Users\\Lenovo\\AppData\\Local\\Temp\\ipykernel_4112\\3984040019.py:1: FutureWarning: The 'axis' keyword in DataFrame.groupby is deprecated and will be removed in a future version.\n",
      "  df_furnish=pd.DataFrame(csv.groupby(by='furnish_type',axis=0)['avg_rent'].mean()).reset_index()\n"
     ]
    },
    {
     "data": {
      "text/html": [
       "<div>\n",
       "<style scoped>\n",
       "    .dataframe tbody tr th:only-of-type {\n",
       "        vertical-align: middle;\n",
       "    }\n",
       "\n",
       "    .dataframe tbody tr th {\n",
       "        vertical-align: top;\n",
       "    }\n",
       "\n",
       "    .dataframe thead th {\n",
       "        text-align: right;\n",
       "    }\n",
       "</style>\n",
       "<table border=\"1\" class=\"dataframe\">\n",
       "  <thead>\n",
       "    <tr style=\"text-align: right;\">\n",
       "      <th></th>\n",
       "      <th>furnish_type</th>\n",
       "      <th>avg_rent</th>\n",
       "    </tr>\n",
       "  </thead>\n",
       "  <tbody>\n",
       "    <tr>\n",
       "      <th>0</th>\n",
       "      <td>Furnished</td>\n",
       "      <td>125.434598</td>\n",
       "    </tr>\n",
       "    <tr>\n",
       "      <th>1</th>\n",
       "      <td>Semi-Furnished</td>\n",
       "      <td>163.010394</td>\n",
       "    </tr>\n",
       "    <tr>\n",
       "      <th>2</th>\n",
       "      <td>Unfurnished</td>\n",
       "      <td>958.280291</td>\n",
       "    </tr>\n",
       "  </tbody>\n",
       "</table>\n",
       "</div>"
      ],
      "text/plain": [
       "     furnish_type    avg_rent\n",
       "0       Furnished  125.434598\n",
       "1  Semi-Furnished  163.010394\n",
       "2     Unfurnished  958.280291"
      ]
     },
     "execution_count": 38,
     "metadata": {},
     "output_type": "execute_result"
    }
   ],
   "source": [
    "df_furnish=pd.DataFrame(csv.groupby(by='furnish_type',axis=0)['avg_rent'].mean()).reset_index()\n",
    "df_furnish"
   ]
  },
  {
   "cell_type": "code",
   "execution_count": 39,
   "id": "70e070be-64f3-4a6d-8616-de61910fd14c",
   "metadata": {},
   "outputs": [
    {
     "data": {
      "image/png": "[encoded data removed]",
      "text/plain": [
       "<Figure size 640x480 with 1 Axes>"
      ]
     },
     "metadata": {},
     "output_type": "display_data"
    }
   ],
   "source": [
    "sns.barplot(y='avg_rent',x='furnish_type',data=df_furnish)\n",
    "plt.show()"
   ]
  },
  {
   "cell_type": "code",
   "execution_count": 40,
   "id": "b82ba9da-5f5c-408d-a387-6a9eb44913f3",
   "metadata": {},
   "outputs": [
    {
     "data": {
      "text/plain": [
       "seller_type      501\n",
       "bedroom          500\n",
       "layout_type      500\n",
       "property_type    500\n",
       "locality         500\n",
       "price            500\n",
       "area             500\n",
       "furnish_type     500\n",
       "bathroom         832\n",
       "avg_rent         500\n",
       "dtype: int64"
      ]
     },
     "execution_count": 40,
     "metadata": {},
     "output_type": "execute_result"
    }
   ],
   "source": [
    "csv.isnull().sum()"
   ]
  },
  {
   "cell_type": "code",
   "execution_count": 41,
   "id": "ae58b156-810c-4a13-bb47-56fb247e1028",
   "metadata": {},
   "outputs": [],
   "source": [
    "csv.dropna(inplace=True)"
   ]
  },
  {
   "cell_type": "code",
   "execution_count": 42,
   "id": "59ed1d65-030f-40bc-a501-015be06b26ea",
   "metadata": {},
   "outputs": [
    {
     "data": {
      "text/plain": [
       "seller_type      0\n",
       "bedroom          0\n",
       "layout_type      0\n",
       "property_type    0\n",
       "locality         0\n",
       "price            0\n",
       "area             0\n",
       "furnish_type     0\n",
       "bathroom         0\n",
       "avg_rent         0\n",
       "dtype: int64"
      ]
     },
     "execution_count": 42,
     "metadata": {},
     "output_type": "execute_result"
    }
   ],
   "source": [
    "csv.isnull().sum()"
   ]
  },
  {
   "cell_type": "code",
   "execution_count": 43,
   "id": "43194926-d8ac-4bc5-98a2-ed45df1e24db",
   "metadata": {},
   "outputs": [],
   "source": [
    "#seaborn=it is library used for plot the area price."
   ]
  },
  {
   "cell_type": "code",
   "execution_count": 44,
   "id": "d75ab3ec-3593-4919-9357-fb9edebca931",
   "metadata": {},
   "outputs": [],
   "source": [
    "import seaborn as sns\n",
    "import matplotlib.pyplot as plt"
   ]
  },
  {
   "cell_type": "code",
   "execution_count": 45,
   "id": "af28f47d-165f-490a-9ee7-81eebbd43e65",
   "metadata": {},
   "outputs": [
    {
     "data": {
      "text/plain": [
       "<Axes: xlabel='avg_rent', ylabel='locality'>"
      ]
     },
     "execution_count": 45,
     "metadata": {},
     "output_type": "execute_result"
    },
    {
     "data": {
      "image/png": "[encoded data removed]",
      "text/plain": [
       "<Figure size 640x480 with 1 Axes>"
      ]
     },
     "metadata": {},
     "output_type": "display_data"
    }
   ],
   "source": [
    "sns.barplot(y='locality',x='avg_rent',hue='layout_type',data=csv.head(20))"
   ]
  },
  {
   "cell_type": "code",
   "execution_count": 46,
   "id": "680ddbba-5715-4a48-8aaa-d45ba5013aca",
   "metadata": {},
   "outputs": [
    {
     "data": {
      "text/plain": [
       "<Axes: xlabel='furnish_type', ylabel='price'>"
      ]
     },
     "execution_count": 46,
     "metadata": {},
     "output_type": "execute_result"
    },
    {
     "data": {
      "image/png": "[encoded data removed]",
      "text/plain": [
       "<Figure size 640x480 with 1 Axes>"
      ]
     },
     "metadata": {},
     "output_type": "display_data"
    }
   ],
   "source": [
    "#swarmplot do not have overlap.\n",
    "sns.swarmplot(y='price',x='furnish_type',hue='property_type',data=csv.head(50))\n"
   ]
  },
  {
   "cell_type": "code",
   "execution_count": 47,
   "id": "424ee499-3d8f-4e8c-a4ef-937fdcd84f2b",
   "metadata": {},
   "outputs": [
    {
     "data": {
      "text/plain": [
       "<Axes: xlabel='furnish_type', ylabel='price'>"
      ]
     },
     "execution_count": 47,
     "metadata": {},
     "output_type": "execute_result"
    },
    {
     "data": {
      "image/png": "[encoded data removed]",
      "text/plain": [
       "<Figure size 640x480 with 1 Axes>"
      ]
     },
     "metadata": {},
     "output_type": "display_data"
    }
   ],
   "source": [
    "#scatterplot having overlap.\n",
    "sns.scatterplot(y='price',x='furnish_type',hue='property_type',data=csv.head(50))\n"
   ]
  },
  {
   "cell_type": "code",
   "execution_count": 48,
   "id": "a56df08d-87eb-4c0f-8fb2-91928266ef05",
   "metadata": {},
   "outputs": [
    {
     "data": {
      "text/plain": [
       "<Axes: xlabel='furnish_type', ylabel='price'>"
      ]
     },
     "execution_count": 48,
     "metadata": {},
     "output_type": "execute_result"
    },
    {
     "data": {
      "image/png": "[encoded data removed]",
      "text/plain": [
       "<Figure size 640x480 with 1 Axes>"
      ]
     },
     "metadata": {},
     "output_type": "display_data"
    }
   ],
   "source": [
    "#violinplot used to change the shape\n",
    "sns.violinplot(y='price',x='furnish_type',hue='property_type',data=csv.head(50))\n"
   ]
  },
  {
   "cell_type": "code",
   "execution_count": 49,
   "id": "8e9ed29b-88cd-4482-bdd5-f3a01ea491ea",
   "metadata": {},
   "outputs": [
    {
     "data": {
      "text/plain": [
       "<Axes: xlabel='furnish_type', ylabel='price'>"
      ]
     },
     "execution_count": 49,
     "metadata": {},
     "output_type": "execute_result"
    },
    {
     "data": {
      "image/png": "[encoded data removed]",
      "text/plain": [
       "<Figure size 640x480 with 1 Axes>"
      ]
     },
     "metadata": {},
     "output_type": "display_data"
    }
   ],
   "source": [
    "#boxplot is used to convert it into box shape.\n",
    "sns.boxplot(y='price',x='furnish_type',hue='property_type',data=csv.head(50))\n"
   ]
  },
  {
   "cell_type": "code",
   "execution_count": 50,
   "id": "2b32f2c0-a05a-45e4-a7fb-a8d3cf766bea",
   "metadata": {},
   "outputs": [
    {
     "name": "stderr",
     "output_type": "stream",
     "text": [
      "C:\\Users\\Lenovo\\AppData\\Local\\Temp\\ipykernel_4112\\1671934860.py:2: FutureWarning: The 'axis' keyword in DataFrame.groupby is deprecated and will be removed in a future version.\n",
      "  df1=pd.DataFrame(df1.groupby(by='seller_type',axis=0)['property_type'].value_counts())\n"
     ]
    },
    {
     "data": {
      "text/html": [
       "<div>\n",
       "<style scoped>\n",
       "    .dataframe tbody tr th:only-of-type {\n",
       "        vertical-align: middle;\n",
       "    }\n",
       "\n",
       "    .dataframe tbody tr th {\n",
       "        vertical-align: top;\n",
       "    }\n",
       "\n",
       "    .dataframe thead th {\n",
       "        text-align: right;\n",
       "    }\n",
       "</style>\n",
       "<table border=\"1\" class=\"dataframe\">\n",
       "  <thead>\n",
       "    <tr style=\"text-align: right;\">\n",
       "      <th></th>\n",
       "      <th></th>\n",
       "      <th>count</th>\n",
       "    </tr>\n",
       "    <tr>\n",
       "      <th>seller_type</th>\n",
       "      <th>property_type</th>\n",
       "      <th></th>\n",
       "    </tr>\n",
       "  </thead>\n",
       "  <tbody>\n",
       "    <tr>\n",
       "      <th rowspan=\"6\" valign=\"top\">AGENT</th>\n",
       "      <th>Independent Floor</th>\n",
       "      <td>17147</td>\n",
       "    </tr>\n",
       "    <tr>\n",
       "      <th>Apartment</th>\n",
       "      <td>7669</td>\n",
       "    </tr>\n",
       "    <tr>\n",
       "      <th>Independent House</th>\n",
       "      <td>1526</td>\n",
       "    </tr>\n",
       "    <tr>\n",
       "      <th>Studio Apartment</th>\n",
       "      <td>1461</td>\n",
       "    </tr>\n",
       "    <tr>\n",
       "      <th>Villa</th>\n",
       "      <td>1287</td>\n",
       "    </tr>\n",
       "    <tr>\n",
       "      <th>Penthouse</th>\n",
       "      <td>89</td>\n",
       "    </tr>\n",
       "    <tr>\n",
       "      <th rowspan=\"3\" valign=\"top\">BUILDER</th>\n",
       "      <th>Apartment</th>\n",
       "      <td>13</td>\n",
       "    </tr>\n",
       "    <tr>\n",
       "      <th>Independent Floor</th>\n",
       "      <td>13</td>\n",
       "    </tr>\n",
       "    <tr>\n",
       "      <th>Independent House</th>\n",
       "      <td>1</td>\n",
       "    </tr>\n",
       "    <tr>\n",
       "      <th rowspan=\"6\" valign=\"top\">OWNER</th>\n",
       "      <th>Independent Floor</th>\n",
       "      <td>1794</td>\n",
       "    </tr>\n",
       "    <tr>\n",
       "      <th>Apartment</th>\n",
       "      <td>855</td>\n",
       "    </tr>\n",
       "    <tr>\n",
       "      <th>Studio Apartment</th>\n",
       "      <td>455</td>\n",
       "    </tr>\n",
       "    <tr>\n",
       "      <th>Independent House</th>\n",
       "      <td>340</td>\n",
       "    </tr>\n",
       "    <tr>\n",
       "      <th>Villa</th>\n",
       "      <td>15</td>\n",
       "    </tr>\n",
       "    <tr>\n",
       "      <th>Penthouse</th>\n",
       "      <td>2</td>\n",
       "    </tr>\n",
       "  </tbody>\n",
       "</table>\n",
       "</div>"
      ],
      "text/plain": [
       "                               count\n",
       "seller_type property_type           \n",
       "AGENT       Independent Floor  17147\n",
       "            Apartment           7669\n",
       "            Independent House   1526\n",
       "            Studio Apartment    1461\n",
       "            Villa               1287\n",
       "            Penthouse             89\n",
       "BUILDER     Apartment             13\n",
       "            Independent Floor     13\n",
       "            Independent House      1\n",
       "OWNER       Independent Floor   1794\n",
       "            Apartment            855\n",
       "            Studio Apartment     455\n",
       "            Independent House    340\n",
       "            Villa                 15\n",
       "            Penthouse              2"
      ]
     },
     "execution_count": 50,
     "metadata": {},
     "output_type": "execute_result"
    }
   ],
   "source": [
    "df1 = csv.loc[:,['seller_type','property_type','avg_rent']]\n",
    "df1=pd.DataFrame(df1.groupby(by='seller_type',axis=0)['property_type'].value_counts())\n",
    "df1"
   ]
  },
  {
   "cell_type": "code",
   "execution_count": 51,
   "id": "c5098a19-30af-4f64-b543-bcace3cc92c5",
   "metadata": {},
   "outputs": [
    {
     "data": {
      "text/plain": [
       "<Axes: xlabel='seller_type', ylabel='count'>"
      ]
     },
     "execution_count": 51,
     "metadata": {},
     "output_type": "execute_result"
    },
    {
     "data": {
      "image/png": "[encoded data removed]",
      "text/plain": [
       "<Figure size 640x480 with 1 Axes>"
      ]
     },
     "metadata": {},
     "output_type": "display_data"
    }
   ],
   "source": [
    "sns.barplot(x='seller_type',y='count', hue='property_type',data=df1)"
   ]
  },
  {
   "cell_type": "code",
   "execution_count": 52,
   "id": "4f38e8eb-e20e-4928-8140-feb292f7d9a5",
   "metadata": {},
   "outputs": [
    {
     "data": {
      "text/html": [
       "<div>\n",
       "<style scoped>\n",
       "    .dataframe tbody tr th:only-of-type {\n",
       "        vertical-align: middle;\n",
       "    }\n",
       "\n",
       "    .dataframe tbody tr th {\n",
       "        vertical-align: top;\n",
       "    }\n",
       "\n",
       "    .dataframe thead th {\n",
       "        text-align: right;\n",
       "    }\n",
       "</style>\n",
       "<table border=\"1\" class=\"dataframe\">\n",
       "  <thead>\n",
       "    <tr style=\"text-align: right;\">\n",
       "      <th></th>\n",
       "      <th>gender</th>\n",
       "      <th>race/ethnicity</th>\n",
       "      <th>parental level of education</th>\n",
       "      <th>lunch</th>\n",
       "      <th>test preparation course</th>\n",
       "      <th>math score</th>\n",
       "      <th>reading score</th>\n",
       "      <th>writing score</th>\n",
       "    </tr>\n",
       "  </thead>\n",
       "  <tbody>\n",
       "    <tr>\n",
       "      <th>0</th>\n",
       "      <td>female</td>\n",
       "      <td>group B</td>\n",
       "      <td>bachelor's degree</td>\n",
       "      <td>standard</td>\n",
       "      <td>none</td>\n",
       "      <td>72</td>\n",
       "      <td>72</td>\n",
       "      <td>74</td>\n",
       "    </tr>\n",
       "    <tr>\n",
       "      <th>1</th>\n",
       "      <td>female</td>\n",
       "      <td>group C</td>\n",
       "      <td>some college</td>\n",
       "      <td>standard</td>\n",
       "      <td>completed</td>\n",
       "      <td>69</td>\n",
       "      <td>90</td>\n",
       "      <td>88</td>\n",
       "    </tr>\n",
       "    <tr>\n",
       "      <th>2</th>\n",
       "      <td>female</td>\n",
       "      <td>group B</td>\n",
       "      <td>master's degree</td>\n",
       "      <td>standard</td>\n",
       "      <td>none</td>\n",
       "      <td>90</td>\n",
       "      <td>95</td>\n",
       "      <td>93</td>\n",
       "    </tr>\n",
       "    <tr>\n",
       "      <th>3</th>\n",
       "      <td>male</td>\n",
       "      <td>group A</td>\n",
       "      <td>associate's degree</td>\n",
       "      <td>free/reduced</td>\n",
       "      <td>none</td>\n",
       "      <td>47</td>\n",
       "      <td>57</td>\n",
       "      <td>44</td>\n",
       "    </tr>\n",
       "    <tr>\n",
       "      <th>4</th>\n",
       "      <td>male</td>\n",
       "      <td>group C</td>\n",
       "      <td>some college</td>\n",
       "      <td>standard</td>\n",
       "      <td>none</td>\n",
       "      <td>76</td>\n",
       "      <td>78</td>\n",
       "      <td>75</td>\n",
       "    </tr>\n",
       "    <tr>\n",
       "      <th>...</th>\n",
       "      <td>...</td>\n",
       "      <td>...</td>\n",
       "      <td>...</td>\n",
       "      <td>...</td>\n",
       "      <td>...</td>\n",
       "      <td>...</td>\n",
       "      <td>...</td>\n",
       "      <td>...</td>\n",
       "    </tr>\n",
       "    <tr>\n",
       "      <th>995</th>\n",
       "      <td>female</td>\n",
       "      <td>group E</td>\n",
       "      <td>master's degree</td>\n",
       "      <td>standard</td>\n",
       "      <td>completed</td>\n",
       "      <td>88</td>\n",
       "      <td>99</td>\n",
       "      <td>95</td>\n",
       "    </tr>\n",
       "    <tr>\n",
       "      <th>996</th>\n",
       "      <td>male</td>\n",
       "      <td>group C</td>\n",
       "      <td>high school</td>\n",
       "      <td>free/reduced</td>\n",
       "      <td>none</td>\n",
       "      <td>62</td>\n",
       "      <td>55</td>\n",
       "      <td>55</td>\n",
       "    </tr>\n",
       "    <tr>\n",
       "      <th>997</th>\n",
       "      <td>female</td>\n",
       "      <td>group C</td>\n",
       "      <td>high school</td>\n",
       "      <td>free/reduced</td>\n",
       "      <td>completed</td>\n",
       "      <td>59</td>\n",
       "      <td>71</td>\n",
       "      <td>65</td>\n",
       "    </tr>\n",
       "    <tr>\n",
       "      <th>998</th>\n",
       "      <td>female</td>\n",
       "      <td>group D</td>\n",
       "      <td>some college</td>\n",
       "      <td>standard</td>\n",
       "      <td>completed</td>\n",
       "      <td>68</td>\n",
       "      <td>78</td>\n",
       "      <td>77</td>\n",
       "    </tr>\n",
       "    <tr>\n",
       "      <th>999</th>\n",
       "      <td>female</td>\n",
       "      <td>group D</td>\n",
       "      <td>some college</td>\n",
       "      <td>free/reduced</td>\n",
       "      <td>none</td>\n",
       "      <td>77</td>\n",
       "      <td>86</td>\n",
       "      <td>86</td>\n",
       "    </tr>\n",
       "  </tbody>\n",
       "</table>\n",
       "<p>1000 rows × 8 columns</p>\n",
       "</div>"
      ],
      "text/plain": [
       "     gender race/ethnicity parental level of education         lunch  \\\n",
       "0    female        group B           bachelor's degree      standard   \n",
       "1    female        group C                some college      standard   \n",
       "2    female        group B             master's degree      standard   \n",
       "3      male        group A          associate's degree  free/reduced   \n",
       "4      male        group C                some college      standard   \n",
       "..      ...            ...                         ...           ...   \n",
       "995  female        group E             master's degree      standard   \n",
       "996    male        group C                 high school  free/reduced   \n",
       "997  female        group C                 high school  free/reduced   \n",
       "998  female        group D                some college      standard   \n",
       "999  female        group D                some college  free/reduced   \n",
       "\n",
       "    test preparation course  math score  reading score  writing score  \n",
       "0                      none          72             72             74  \n",
       "1                 completed          69             90             88  \n",
       "2                      none          90             95             93  \n",
       "3                      none          47             57             44  \n",
       "4                      none          76             78             75  \n",
       "..                      ...         ...            ...            ...  \n",
       "995               completed          88             99             95  \n",
       "996                    none          62             55             55  \n",
       "997               completed          59             71             65  \n",
       "998               completed          68             78             77  \n",
       "999                    none          77             86             86  \n",
       "\n",
       "[1000 rows x 8 columns]"
      ]
     },
     "execution_count": 52,
     "metadata": {},
     "output_type": "execute_result"
    }
   ],
   "source": [
    "csv = pd.read_csv(r'StudentsPerformance.csv')\n",
    "csv"
   ]
  },
  {
   "cell_type": "code",
   "execution_count": 53,
   "id": "73cef8e2-99ed-49a1-9e97-6e68b5e91f1e",
   "metadata": {},
   "outputs": [
    {
     "data": {
      "text/html": [
       "<div>\n",
       "<style scoped>\n",
       "    .dataframe tbody tr th:only-of-type {\n",
       "        vertical-align: middle;\n",
       "    }\n",
       "\n",
       "    .dataframe tbody tr th {\n",
       "        vertical-align: top;\n",
       "    }\n",
       "\n",
       "    .dataframe thead th {\n",
       "        text-align: right;\n",
       "    }\n",
       "</style>\n",
       "<table border=\"1\" class=\"dataframe\">\n",
       "  <thead>\n",
       "    <tr style=\"text-align: right;\">\n",
       "      <th></th>\n",
       "      <th>gender</th>\n",
       "      <th>race/ethnicity</th>\n",
       "      <th>parental level of education</th>\n",
       "      <th>lunch</th>\n",
       "      <th>test preparation course</th>\n",
       "      <th>math score</th>\n",
       "      <th>reading score</th>\n",
       "      <th>writing score</th>\n",
       "    </tr>\n",
       "  </thead>\n",
       "  <tbody>\n",
       "    <tr>\n",
       "      <th>0</th>\n",
       "      <td>female</td>\n",
       "      <td>group B</td>\n",
       "      <td>bachelor's degree</td>\n",
       "      <td>standard</td>\n",
       "      <td>none</td>\n",
       "      <td>72</td>\n",
       "      <td>72</td>\n",
       "      <td>74</td>\n",
       "    </tr>\n",
       "    <tr>\n",
       "      <th>1</th>\n",
       "      <td>female</td>\n",
       "      <td>group C</td>\n",
       "      <td>some college</td>\n",
       "      <td>standard</td>\n",
       "      <td>completed</td>\n",
       "      <td>69</td>\n",
       "      <td>90</td>\n",
       "      <td>88</td>\n",
       "    </tr>\n",
       "    <tr>\n",
       "      <th>2</th>\n",
       "      <td>female</td>\n",
       "      <td>group B</td>\n",
       "      <td>master's degree</td>\n",
       "      <td>standard</td>\n",
       "      <td>none</td>\n",
       "      <td>90</td>\n",
       "      <td>95</td>\n",
       "      <td>93</td>\n",
       "    </tr>\n",
       "    <tr>\n",
       "      <th>3</th>\n",
       "      <td>male</td>\n",
       "      <td>group A</td>\n",
       "      <td>associate's degree</td>\n",
       "      <td>free/reduced</td>\n",
       "      <td>none</td>\n",
       "      <td>47</td>\n",
       "      <td>57</td>\n",
       "      <td>44</td>\n",
       "    </tr>\n",
       "    <tr>\n",
       "      <th>4</th>\n",
       "      <td>male</td>\n",
       "      <td>group C</td>\n",
       "      <td>some college</td>\n",
       "      <td>standard</td>\n",
       "      <td>none</td>\n",
       "      <td>76</td>\n",
       "      <td>78</td>\n",
       "      <td>75</td>\n",
       "    </tr>\n",
       "  </tbody>\n",
       "</table>\n",
       "</div>"
      ],
      "text/plain": [
       "   gender race/ethnicity parental level of education         lunch  \\\n",
       "0  female        group B           bachelor's degree      standard   \n",
       "1  female        group C                some college      standard   \n",
       "2  female        group B             master's degree      standard   \n",
       "3    male        group A          associate's degree  free/reduced   \n",
       "4    male        group C                some college      standard   \n",
       "\n",
       "  test preparation course  math score  reading score  writing score  \n",
       "0                    none          72             72             74  \n",
       "1               completed          69             90             88  \n",
       "2                    none          90             95             93  \n",
       "3                    none          47             57             44  \n",
       "4                    none          76             78             75  "
      ]
     },
     "execution_count": 53,
     "metadata": {},
     "output_type": "execute_result"
    }
   ],
   "source": [
    "csv.head(5)"
   ]
  },
  {
   "cell_type": "code",
   "execution_count": 54,
   "id": "63907edc-92b8-4151-9eec-4d3e9cf6bac8",
   "metadata": {},
   "outputs": [
    {
     "data": {
      "text/html": [
       "<div>\n",
       "<style scoped>\n",
       "    .dataframe tbody tr th:only-of-type {\n",
       "        vertical-align: middle;\n",
       "    }\n",
       "\n",
       "    .dataframe tbody tr th {\n",
       "        vertical-align: top;\n",
       "    }\n",
       "\n",
       "    .dataframe thead th {\n",
       "        text-align: right;\n",
       "    }\n",
       "</style>\n",
       "<table border=\"1\" class=\"dataframe\">\n",
       "  <thead>\n",
       "    <tr style=\"text-align: right;\">\n",
       "      <th></th>\n",
       "      <th>gender</th>\n",
       "      <th>race/ethnicity</th>\n",
       "      <th>parental level of education</th>\n",
       "      <th>lunch</th>\n",
       "      <th>test preparation course</th>\n",
       "      <th>math score</th>\n",
       "      <th>reading score</th>\n",
       "      <th>writing score</th>\n",
       "      <th>avg_score</th>\n",
       "    </tr>\n",
       "  </thead>\n",
       "  <tbody>\n",
       "    <tr>\n",
       "      <th>59</th>\n",
       "      <td>female</td>\n",
       "      <td>group C</td>\n",
       "      <td>some high school</td>\n",
       "      <td>free/reduced</td>\n",
       "      <td>none</td>\n",
       "      <td>0</td>\n",
       "      <td>17</td>\n",
       "      <td>10</td>\n",
       "      <td>1.700000</td>\n",
       "    </tr>\n",
       "    <tr>\n",
       "      <th>596</th>\n",
       "      <td>male</td>\n",
       "      <td>group B</td>\n",
       "      <td>high school</td>\n",
       "      <td>free/reduced</td>\n",
       "      <td>none</td>\n",
       "      <td>30</td>\n",
       "      <td>24</td>\n",
       "      <td>15</td>\n",
       "      <td>1.600000</td>\n",
       "    </tr>\n",
       "    <tr>\n",
       "      <th>338</th>\n",
       "      <td>female</td>\n",
       "      <td>group B</td>\n",
       "      <td>some high school</td>\n",
       "      <td>free/reduced</td>\n",
       "      <td>none</td>\n",
       "      <td>24</td>\n",
       "      <td>38</td>\n",
       "      <td>27</td>\n",
       "      <td>1.407407</td>\n",
       "    </tr>\n",
       "    <tr>\n",
       "      <th>688</th>\n",
       "      <td>male</td>\n",
       "      <td>group A</td>\n",
       "      <td>high school</td>\n",
       "      <td>free/reduced</td>\n",
       "      <td>none</td>\n",
       "      <td>53</td>\n",
       "      <td>58</td>\n",
       "      <td>44</td>\n",
       "      <td>1.318182</td>\n",
       "    </tr>\n",
       "    <tr>\n",
       "      <th>136</th>\n",
       "      <td>male</td>\n",
       "      <td>group B</td>\n",
       "      <td>some high school</td>\n",
       "      <td>standard</td>\n",
       "      <td>completed</td>\n",
       "      <td>51</td>\n",
       "      <td>54</td>\n",
       "      <td>41</td>\n",
       "      <td>1.317073</td>\n",
       "    </tr>\n",
       "    <tr>\n",
       "      <th>...</th>\n",
       "      <td>...</td>\n",
       "      <td>...</td>\n",
       "      <td>...</td>\n",
       "      <td>...</td>\n",
       "      <td>...</td>\n",
       "      <td>...</td>\n",
       "      <td>...</td>\n",
       "      <td>...</td>\n",
       "      <td>...</td>\n",
       "    </tr>\n",
       "    <tr>\n",
       "      <th>486</th>\n",
       "      <td>male</td>\n",
       "      <td>group D</td>\n",
       "      <td>some college</td>\n",
       "      <td>free/reduced</td>\n",
       "      <td>none</td>\n",
       "      <td>61</td>\n",
       "      <td>47</td>\n",
       "      <td>56</td>\n",
       "      <td>0.839286</td>\n",
       "    </tr>\n",
       "    <tr>\n",
       "      <th>972</th>\n",
       "      <td>female</td>\n",
       "      <td>group A</td>\n",
       "      <td>high school</td>\n",
       "      <td>free/reduced</td>\n",
       "      <td>completed</td>\n",
       "      <td>53</td>\n",
       "      <td>50</td>\n",
       "      <td>60</td>\n",
       "      <td>0.833333</td>\n",
       "    </tr>\n",
       "    <tr>\n",
       "      <th>466</th>\n",
       "      <td>female</td>\n",
       "      <td>group D</td>\n",
       "      <td>associate's degree</td>\n",
       "      <td>free/reduced</td>\n",
       "      <td>none</td>\n",
       "      <td>26</td>\n",
       "      <td>31</td>\n",
       "      <td>38</td>\n",
       "      <td>0.815789</td>\n",
       "    </tr>\n",
       "    <tr>\n",
       "      <th>237</th>\n",
       "      <td>female</td>\n",
       "      <td>group D</td>\n",
       "      <td>some high school</td>\n",
       "      <td>standard</td>\n",
       "      <td>completed</td>\n",
       "      <td>64</td>\n",
       "      <td>60</td>\n",
       "      <td>74</td>\n",
       "      <td>0.810811</td>\n",
       "    </tr>\n",
       "    <tr>\n",
       "      <th>400</th>\n",
       "      <td>female</td>\n",
       "      <td>group C</td>\n",
       "      <td>some high school</td>\n",
       "      <td>standard</td>\n",
       "      <td>completed</td>\n",
       "      <td>59</td>\n",
       "      <td>54</td>\n",
       "      <td>67</td>\n",
       "      <td>0.805970</td>\n",
       "    </tr>\n",
       "  </tbody>\n",
       "</table>\n",
       "<p>1000 rows × 9 columns</p>\n",
       "</div>"
      ],
      "text/plain": [
       "     gender race/ethnicity parental level of education         lunch  \\\n",
       "59   female        group C            some high school  free/reduced   \n",
       "596    male        group B                 high school  free/reduced   \n",
       "338  female        group B            some high school  free/reduced   \n",
       "688    male        group A                 high school  free/reduced   \n",
       "136    male        group B            some high school      standard   \n",
       "..      ...            ...                         ...           ...   \n",
       "486    male        group D                some college  free/reduced   \n",
       "972  female        group A                 high school  free/reduced   \n",
       "466  female        group D          associate's degree  free/reduced   \n",
       "237  female        group D            some high school      standard   \n",
       "400  female        group C            some high school      standard   \n",
       "\n",
       "    test preparation course  math score  reading score  writing score  \\\n",
       "59                     none           0             17             10   \n",
       "596                    none          30             24             15   \n",
       "338                    none          24             38             27   \n",
       "688                    none          53             58             44   \n",
       "136               completed          51             54             41   \n",
       "..                      ...         ...            ...            ...   \n",
       "486                    none          61             47             56   \n",
       "972               completed          53             50             60   \n",
       "466                    none          26             31             38   \n",
       "237               completed          64             60             74   \n",
       "400               completed          59             54             67   \n",
       "\n",
       "     avg_score  \n",
       "59    1.700000  \n",
       "596   1.600000  \n",
       "338   1.407407  \n",
       "688   1.318182  \n",
       "136   1.317073  \n",
       "..         ...  \n",
       "486   0.839286  \n",
       "972   0.833333  \n",
       "466   0.815789  \n",
       "237   0.810811  \n",
       "400   0.805970  \n",
       "\n",
       "[1000 rows x 9 columns]"
      ]
     },
     "execution_count": 54,
     "metadata": {},
     "output_type": "execute_result"
    }
   ],
   "source": [
    "#program to print avg score b/w reading score and writing score\n",
    "csv['avg_score']=csv['reading score']/csv['writing score']\n",
    "csv.sort_values('avg_score',ascending=False, inplace=True)\n",
    "csv"
   ]
  },
  {
   "cell_type": "code",
   "execution_count": 55,
   "id": "d66ab44d-af86-4920-9378-e84887c19baa",
   "metadata": {},
   "outputs": [
    {
     "name": "stderr",
     "output_type": "stream",
     "text": [
      "C:\\Users\\Lenovo\\AppData\\Local\\Temp\\ipykernel_4112\\4152759497.py:2: FutureWarning: The 'axis' keyword in DataFrame.groupby is deprecated and will be removed in a future version.\n",
      "  df_gender=pd.DataFrame(csv.groupby(by='gender',axis=0)['avg_score'].mean()).reset_index()\n"
     ]
    },
    {
     "data": {
      "text/html": [
       "<div>\n",
       "<style scoped>\n",
       "    .dataframe tbody tr th:only-of-type {\n",
       "        vertical-align: middle;\n",
       "    }\n",
       "\n",
       "    .dataframe tbody tr th {\n",
       "        vertical-align: top;\n",
       "    }\n",
       "\n",
       "    .dataframe thead th {\n",
       "        text-align: right;\n",
       "    }\n",
       "</style>\n",
       "<table border=\"1\" class=\"dataframe\">\n",
       "  <thead>\n",
       "    <tr style=\"text-align: right;\">\n",
       "      <th></th>\n",
       "      <th>gender</th>\n",
       "      <th>avg_score</th>\n",
       "    </tr>\n",
       "  </thead>\n",
       "  <tbody>\n",
       "    <tr>\n",
       "      <th>0</th>\n",
       "      <td>female</td>\n",
       "      <td>1.007459</td>\n",
       "    </tr>\n",
       "    <tr>\n",
       "      <th>1</th>\n",
       "      <td>male</td>\n",
       "      <td>1.040108</td>\n",
       "    </tr>\n",
       "  </tbody>\n",
       "</table>\n",
       "</div>"
      ],
      "text/plain": [
       "   gender  avg_score\n",
       "0  female   1.007459\n",
       "1    male   1.040108"
      ]
     },
     "execution_count": 55,
     "metadata": {},
     "output_type": "execute_result"
    }
   ],
   "source": [
    "#program to group by on the basis of students with the sum or mean of avg_type\n",
    "df_gender=pd.DataFrame(csv.groupby(by='gender',axis=0)['avg_score'].mean()).reset_index()\n",
    "df_gender"
   ]
  },
  {
   "cell_type": "code",
   "execution_count": 56,
   "id": "828d4bcb-9d35-418a-b08a-63170ab89909",
   "metadata": {},
   "outputs": [
    {
     "data": {
      "text/plain": [
       "<function matplotlib.pyplot.show(close=None, block=None)>"
      ]
     },
     "execution_count": 56,
     "metadata": {},
     "output_type": "execute_result"
    },
    {
     "data": {
      "image/png": "[encoded data removed]",
      "text/plain": [
       "<Figure size 640x480 with 1 Axes>"
      ]
     },
     "metadata": {},
     "output_type": "display_data"
    }
   ],
   "source": [
    "#program to draw above program in the form of pie chart using seaborn of pandas\n",
    "sns.barplot(y='avg_score',x='gender',data=df_gender)\n",
    "plt.show"
   ]
  },
  {
   "cell_type": "code",
   "execution_count": 57,
   "id": "cb7fe086-27fb-4702-936e-d8d4c6537324",
   "metadata": {},
   "outputs": [
    {
     "data": {
      "text/plain": [
       "gender                         0\n",
       "race/ethnicity                 0\n",
       "parental level of education    0\n",
       "lunch                          0\n",
       "test preparation course        0\n",
       "math score                     0\n",
       "reading score                  0\n",
       "writing score                  0\n",
       "avg_score                      0\n",
       "dtype: int64"
      ]
     },
     "execution_count": 57,
     "metadata": {},
     "output_type": "execute_result"
    }
   ],
   "source": [
    "#program to check null values using pandas\n",
    "csv.isnull().sum()"
   ]
  },
  {
   "cell_type": "code",
   "execution_count": 58,
   "id": "252a664b-9910-44a5-98f6-1b4f8260a98d",
   "metadata": {},
   "outputs": [
    {
     "data": {
      "text/plain": [
       "<Axes: xlabel='avg_score', ylabel='gender'>"
      ]
     },
     "execution_count": 58,
     "metadata": {},
     "output_type": "execute_result"
    },
    {
     "data": {
      "image/png": "[encoded data removed]",
      "text/plain": [
       "<Figure size 640x480 with 1 Axes>"
      ]
     },
     "metadata": {},
     "output_type": "display_data"
    }
   ],
   "source": [
    "#program for the barplot of the lunch,avg_score,race(you can change the head)\n",
    "sns.barplot(y='gender',x='avg_score',hue='lunch',data=csv.head())"
   ]
  },
  {
   "cell_type": "code",
   "execution_count": 59,
   "id": "8dfefb94-47c2-4bba-bb9d-5bb4d32c4f95",
   "metadata": {},
   "outputs": [
    {
     "data": {
      "text/plain": [
       "<Axes: xlabel='math score', ylabel='gender'>"
      ]
     },
     "execution_count": 59,
     "metadata": {},
     "output_type": "execute_result"
    },
    {
     "data": {
      "image/png": "[encoded data removed]",
      "text/plain": [
       "<Figure size 640x480 with 1 Axes>"
      ]
     },
     "metadata": {},
     "output_type": "display_data"
    }
   ],
   "source": [
    "#program to plot gender with math score and pparental level of education(diagram is like scatter but donot overlap)using seaborn\n",
    "sns.swarmplot(y='gender',x='math score',hue='parental level of education',data=csv.head())"
   ]
  },
  {
   "cell_type": "code",
   "execution_count": 60,
   "id": "9606df38-31f1-44d7-ba45-02d3d1e5895d",
   "metadata": {},
   "outputs": [
    {
     "data": {
      "text/plain": [
       "<Axes: xlabel='math score', ylabel='gender'>"
      ]
     },
     "execution_count": 60,
     "metadata": {},
     "output_type": "execute_result"
    },
    {
     "data": {
      "image/png": "[encoded data removed]",
      "text/plain": [
       "<Figure size 640x480 with 1 Axes>"
      ]
     },
     "metadata": {},
     "output_type": "display_data"
    }
   ],
   "source": [
    "#program to plot gender with math score and parental level of education(scatter is like scatter but donot overlap) using seaborn\n",
    "sns.scatterplot(y='gender',x='math score',hue='parental level of education', data=csv.head())"
   ]
  },
  {
   "cell_type": "code",
   "execution_count": 61,
   "id": "727e4ac7-b5fa-4da5-8af5-e6e7bd4c140e",
   "metadata": {},
   "outputs": [
    {
     "data": {
      "text/plain": [
       "<Axes: xlabel='math score', ylabel='gender'>"
      ]
     },
     "execution_count": 61,
     "metadata": {},
     "output_type": "execute_result"
    },
    {
     "data": {
      "image/png": "[encoded data removed]",
      "text/plain": [
       "<Figure size 640x480 with 1 Axes>"
      ]
     },
     "metadata": {},
     "output_type": "display_data"
    }
   ],
   "source": [
    "#program to plot gender with math score and parental level of education(violin  is like scatter but donot overlap) using seaborn\n",
    "sns.violinplot(y='gender',x='math score',hue='parental level of education', data=csv.head())"
   ]
  },
  {
   "cell_type": "code",
   "execution_count": 62,
   "id": "b9c01c8e-1f00-4fce-8086-4a0bdf548318",
   "metadata": {},
   "outputs": [
    {
     "data": {
      "text/plain": [
       "<Axes: xlabel='math score', ylabel='gender'>"
      ]
     },
     "execution_count": 62,
     "metadata": {},
     "output_type": "execute_result"
    },
    {
     "data": {
      "image/png": "[encoded data removed]",
      "text/plain": [
       "<Figure size 640x480 with 1 Axes>"
      ]
     },
     "metadata": {},
     "output_type": "display_data"
    }
   ],
   "source": [
    "#program to plot gender with math score and parental level of education(box  is like scatter but donot overlap) using seaborn\n",
    "sns.boxplot(y='gender',x='math score',hue='parental level of education', data=csv.head())"
   ]
  },
  {
   "cell_type": "code",
   "execution_count": 63,
   "id": "2c9be5aa-64cb-44de-86e3-ed115860e026",
   "metadata": {},
   "outputs": [
    {
     "data": {
      "text/plain": [
       "<Axes: xlabel='test preparation course', ylabel='parental level of education'>"
      ]
     },
     "execution_count": 63,
     "metadata": {},
     "output_type": "execute_result"
    },
    {
     "data": {
      "image/png": "[encoded data removed]",
      "text/plain": [
       "<Figure size 640x480 with 1 Axes>"
      ]
     },
     "metadata": {},
     "output_type": "display_data"
    }
   ],
   "source": [
    "sns.violinplot(y='parental level of education',x='test preparation course',hue='gender',data=csv.head(50))\n"
   ]
  },
  {
   "cell_type": "code",
   "execution_count": 64,
   "id": "ca789465-45ae-4293-a797-f251ab4cd6b3",
   "metadata": {},
   "outputs": [
    {
     "data": {
      "text/plain": [
       "<Axes: xlabel='lunch', ylabel='math score'>"
      ]
     },
     "execution_count": 64,
     "metadata": {},
     "output_type": "execute_result"
    },
    {
     "data": {
      "image/png": "[encoded data removed]",
      "text/plain": [
       "<Figure size 640x480 with 1 Axes>"
      ]
     },
     "metadata": {},
     "output_type": "display_data"
    }
   ],
   "source": [
    "sns.boxplot(y='math score',x='lunch',hue='gender',data=csv.head(50))\n"
   ]
  },
  {
   "cell_type": "code",
   "execution_count": 65,
   "id": "19b82421-b8c3-4a9b-9102-0c6509900fb9",
   "metadata": {},
   "outputs": [
    {
     "data": {
      "text/plain": [
       "<Axes: xlabel='lunch', ylabel='reading score'>"
      ]
     },
     "execution_count": 65,
     "metadata": {},
     "output_type": "execute_result"
    },
    {
     "data": {
      "image/png": "[encoded data removed]",
      "text/plain": [
       "<Figure size 640x480 with 1 Axes>"
      ]
     },
     "metadata": {},
     "output_type": "display_data"
    }
   ],
   "source": [
    "sns.boxplot(y='reading score',x='lunch',hue='gender',data=csv.head(50))\n"
   ]
  },
  {
   "cell_type": "code",
   "execution_count": 66,
   "id": "18d0cb2d-a792-4774-9dd4-eeff1c07e7b2",
   "metadata": {},
   "outputs": [
    {
     "data": {
      "text/plain": [
       "<Axes: xlabel='lunch', ylabel='writing score'>"
      ]
     },
     "execution_count": 66,
     "metadata": {},
     "output_type": "execute_result"
    },
    {
     "data": {
      "image/png": "[encoded data removed]",
      "text/plain": [
       "<Figure size 640x480 with 1 Axes>"
      ]
     },
     "metadata": {},
     "output_type": "display_data"
    }
   ],
   "source": [
    "sns.boxplot(y='writing score',x='lunch',hue='gender',data=csv.head(50))\n"
   ]
  },
  {
   "cell_type": "code",
   "execution_count": 67,
   "id": "3f5ef3dd-5bd7-44ba-97d7-8fcc15c2dc18",
   "metadata": {},
   "outputs": [
    {
     "data": {
      "text/plain": [
       "<Axes: xlabel='test preparation course', ylabel='parental level of education'>"
      ]
     },
     "execution_count": 67,
     "metadata": {},
     "output_type": "execute_result"
    },
    {
     "data": {
      "image/png": "[encoded data removed]",
      "text/plain": [
       "<Figure size 640x480 with 1 Axes>"
      ]
     },
     "metadata": {},
     "output_type": "display_data"
    }
   ],
   "source": [
    "sns.boxplot(y='parental level of education',x='test preparation course',hue='lunch',data=csv.head(20))\n"
   ]
  },
  {
   "cell_type": "code",
   "execution_count": 68,
   "id": "fc903ab4-bcc6-4865-ac66-feace2ee5089",
   "metadata": {},
   "outputs": [
    {
     "data": {
      "text/html": [
       "<div>\n",
       "<style scoped>\n",
       "    .dataframe tbody tr th:only-of-type {\n",
       "        vertical-align: middle;\n",
       "    }\n",
       "\n",
       "    .dataframe tbody tr th {\n",
       "        vertical-align: top;\n",
       "    }\n",
       "\n",
       "    .dataframe thead th {\n",
       "        text-align: right;\n",
       "    }\n",
       "</style>\n",
       "<table border=\"1\" class=\"dataframe\">\n",
       "  <thead>\n",
       "    <tr style=\"text-align: right;\">\n",
       "      <th></th>\n",
       "      <th>parental level of education</th>\n",
       "      <th>gender</th>\n",
       "      <th>avg_score</th>\n",
       "    </tr>\n",
       "  </thead>\n",
       "  <tbody>\n",
       "    <tr>\n",
       "      <th>59</th>\n",
       "      <td>some high school</td>\n",
       "      <td>female</td>\n",
       "      <td>1.700000</td>\n",
       "    </tr>\n",
       "    <tr>\n",
       "      <th>596</th>\n",
       "      <td>high school</td>\n",
       "      <td>male</td>\n",
       "      <td>1.600000</td>\n",
       "    </tr>\n",
       "    <tr>\n",
       "      <th>338</th>\n",
       "      <td>some high school</td>\n",
       "      <td>female</td>\n",
       "      <td>1.407407</td>\n",
       "    </tr>\n",
       "    <tr>\n",
       "      <th>688</th>\n",
       "      <td>high school</td>\n",
       "      <td>male</td>\n",
       "      <td>1.318182</td>\n",
       "    </tr>\n",
       "    <tr>\n",
       "      <th>136</th>\n",
       "      <td>some high school</td>\n",
       "      <td>male</td>\n",
       "      <td>1.317073</td>\n",
       "    </tr>\n",
       "    <tr>\n",
       "      <th>...</th>\n",
       "      <td>...</td>\n",
       "      <td>...</td>\n",
       "      <td>...</td>\n",
       "    </tr>\n",
       "    <tr>\n",
       "      <th>486</th>\n",
       "      <td>some college</td>\n",
       "      <td>male</td>\n",
       "      <td>0.839286</td>\n",
       "    </tr>\n",
       "    <tr>\n",
       "      <th>972</th>\n",
       "      <td>high school</td>\n",
       "      <td>female</td>\n",
       "      <td>0.833333</td>\n",
       "    </tr>\n",
       "    <tr>\n",
       "      <th>466</th>\n",
       "      <td>associate's degree</td>\n",
       "      <td>female</td>\n",
       "      <td>0.815789</td>\n",
       "    </tr>\n",
       "    <tr>\n",
       "      <th>237</th>\n",
       "      <td>some high school</td>\n",
       "      <td>female</td>\n",
       "      <td>0.810811</td>\n",
       "    </tr>\n",
       "    <tr>\n",
       "      <th>400</th>\n",
       "      <td>some high school</td>\n",
       "      <td>female</td>\n",
       "      <td>0.805970</td>\n",
       "    </tr>\n",
       "  </tbody>\n",
       "</table>\n",
       "<p>1000 rows × 3 columns</p>\n",
       "</div>"
      ],
      "text/plain": [
       "    parental level of education  gender  avg_score\n",
       "59             some high school  female   1.700000\n",
       "596                 high school    male   1.600000\n",
       "338            some high school  female   1.407407\n",
       "688                 high school    male   1.318182\n",
       "136            some high school    male   1.317073\n",
       "..                          ...     ...        ...\n",
       "486                some college    male   0.839286\n",
       "972                 high school  female   0.833333\n",
       "466          associate's degree  female   0.815789\n",
       "237            some high school  female   0.810811\n",
       "400            some high school  female   0.805970\n",
       "\n",
       "[1000 rows x 3 columns]"
      ]
     },
     "execution_count": 68,
     "metadata": {},
     "output_type": "execute_result"
    }
   ],
   "source": [
    "#program to plot grapg on parental level of education and gender with avg using seaborn\n",
    "df1=csv.loc[:,['parental level of education','gender','avg_score']]\n",
    "df1"
   ]
  },
  {
   "cell_type": "code",
   "execution_count": 69,
   "id": "2507d01f-1cc9-4149-8fbf-3d30ad91e9b5",
   "metadata": {},
   "outputs": [
    {
     "data": {
      "text/plain": [
       "<Axes: xlabel='avg_score', ylabel='gender'>"
      ]
     },
     "execution_count": 69,
     "metadata": {},
     "output_type": "execute_result"
    },
    {
     "data": {
      "image/png": "[encoded data removed]",
      "text/plain": [
       "<Figure size 640x480 with 1 Axes>"
      ]
     },
     "metadata": {},
     "output_type": "display_data"
    }
   ],
   "source": [
    "sns.barplot(x='avg_score',y='gender', hue='parental level of education',data=csv)"
   ]
  },
  {
   "cell_type": "code",
   "execution_count": null,
   "id": "3d7d0746-cceb-4f98-8b5d-bc1c87e9e213",
   "metadata": {},
   "outputs": [],
   "source": []
  },
  {
   "cell_type": "code",
   "execution_count": null,
   "id": "ffa3be21-4022-4440-a1d0-da69a7ebba3c",
   "metadata": {},
   "outputs": [],
   "source": []
  }
 ],
 "metadata": {
  "kernelspec": {
   "display_name": "Python 3 (ipykernel)",
   "language": "python",
   "name": "python3"
  },
  "language_info": {
   "codemirror_mode": {
    "name": "ipython",
    "version": 3
   },
   "file_extension": ".py",
   "mimetype": "text/x-python",
   "name": "python",
   "nbconvert_exporter": "python",
   "pygments_lexer": "ipython3",
   "version": "3.11.8"
  }
 },
 "nbformat": 4,
 "nbformat_minor": 5
}
