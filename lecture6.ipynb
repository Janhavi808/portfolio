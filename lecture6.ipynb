{
 "cells": [
  {
   "cell_type": "code",
   "execution_count": 3,
   "id": "9ea76d98-99f4-4ec5-a849-d15637c369ce",
   "metadata": {},
   "outputs": [
    {
     "ename": "ModuleNotFoundError",
     "evalue": "No module named 'plotly'",
     "output_type": "error",
     "traceback": [
      "\u001b[1;31m---------------------------------------------------------------------------\u001b[0m",
      "\u001b[1;31mModuleNotFoundError\u001b[0m                       Traceback (most recent call last)",
      "Cell \u001b[1;32mIn[3], line 5\u001b[0m\n\u001b[0;32m      3\u001b[0m \u001b[38;5;28;01mimport\u001b[39;00m \u001b[38;5;21;01mmatplotlib\u001b[39;00m\u001b[38;5;21;01m.\u001b[39;00m\u001b[38;5;21;01mpyplot\u001b[39;00m \u001b[38;5;28;01mas\u001b[39;00m \u001b[38;5;21;01mplt\u001b[39;00m\n\u001b[0;32m      4\u001b[0m \u001b[38;5;28;01mimport\u001b[39;00m \u001b[38;5;21;01mseaborn\u001b[39;00m \u001b[38;5;28;01mas\u001b[39;00m \u001b[38;5;21;01msns\u001b[39;00m\n\u001b[1;32m----> 5\u001b[0m \u001b[38;5;28;01mimport\u001b[39;00m \u001b[38;5;21;01mplotly\u001b[39;00m\u001b[38;5;21;01m.\u001b[39;00m\u001b[38;5;21;01mexpress\u001b[39;00m \u001b[38;5;28;01mas\u001b[39;00m \u001b[38;5;21;01mpx\u001b[39;00m\n\u001b[0;32m      6\u001b[0m \u001b[38;5;28;01mimport\u001b[39;00m \u001b[38;5;21;01mplotly\u001b[39;00m\u001b[38;5;21;01m.\u001b[39;00m\u001b[38;5;21;01mgraph_objects\u001b[39;00m \u001b[38;5;28;01mas\u001b[39;00m \u001b[38;5;21;01mgo\u001b[39;00m\n",
      "\u001b[1;31mModuleNotFoundError\u001b[0m: No module named 'plotly'"
     ]
    }
   ],
   "source": [
    "import pandas as pd\n",
    "import numpy as np\n",
    "import matplotlib.pyplot as plt\n",
    "import seaborn as sns\n",
    "import plotly.express as px\n",
    "import plotly.graph_objects as go\n"
   ]
  },
  {
   "cell_type": "code",
   "execution_count": null,
   "id": "fc7de80a-c37f-4c4d-9b7a-36317cfdc364",
   "metadata": {},
   "outputs": [],
   "source": [
    "x=np.arange(10,100,10)\n",
    "y=np.arange(10,100,10)\n",
    "fig=px.line(x =x, y =y)\n",
    "fig.show()"
   ]
  },
  {
   "cell_type": "code",
   "execution_count": null,
   "id": "b9b0fd55-599d-4205-a36c-fd6dd7a4f3e3",
   "metadata": {},
   "outputs": [],
   "source": [
    "fig = px.line(iris,x='species',y='sepal_length',title='plot b/w species and sepal_length',\n",
    "             color='species',height=500,width=500,hover_data=['petal_length'])\n",
    "fig.show()"
   ]
  },
  {
   "cell_type": "code",
   "execution_count": null,
   "id": "1f3c1a60-28f4-4f27-9255-e293a77274fb",
   "metadata": {},
   "outputs": [],
   "source": [
    "fig = px.bar(iris,x='species',y='sepal_length',title='plot b/w species and sepal_length',\n",
    "             color='species',height=500,width=500,hover_data=['petal_length'],opacity=0.8,orientation='h')\n",
    "fig.show()"
   ]
  },
  {
   "cell_type": "code",
   "execution_count": null,
   "id": "a4e042ed-7b0a-4b56-a256-1e17abb2bad9",
   "metadata": {},
   "outputs": [],
   "source": [
    "fig = px.scatterplot(tips,x='day',y='tip', size='size',title='plot b/w day and tip',\n",
    "             color='day',height=500,width=500,hover_data=['sex'],opacity=0.8)\n",
    "fig.show()"
   ]
  },
  {
   "cell_type": "code",
   "execution_count": null,
   "id": "7b09b302-c95e-493d-ae06-703991a15c17",
   "metadata": {},
   "outputs": [],
   "source": [
    "fig = px.box(tips,x='day',y='tip',title='plot b/w day and tip',\n",
    "             color='day',height=500,width=500,hover_data=['sex'],opacity=0.8)\n",
    "fig.show()"
   ]
  },
  {
   "cell_type": "code",
   "execution_count": null,
   "id": "dfe12b25-896c-43db-acf2-9f02a76814f9",
   "metadata": {},
   "outputs": [],
   "source": [
    "fig = px.pie(tips.head(),labels='day',values='tip',title='plot b/w day and tip',\n",
    "             color='tip',height=400,width=400,hover_data=['sex'],hole=0.2)\n",
    "fig.show()"
   ]
  },
  {
   "cell_type": "code",
   "execution_count": null,
   "id": "46c318c8-e5c5-4ba0-96b1-1b05cc85ad6a",
   "metadata": {},
   "outputs": [],
   "source": [
    "fig go.figure(data=[go.pie(\n",
    "    labels=tips['day'],values=tips['tip'],hole=0.2,pull=[0,0,2,0,0]\n",
    ")])\n",
    "fig.show()\n",
    "            "
   ]
  },
  {
   "cell_type": "code",
   "execution_count": null,
   "id": "f10cc109-a9bd-41f6-a186-f78ccb001a18",
   "metadata": {},
   "outputs": [],
   "source": [
    "fig=go.figure()\n",
    "fig.add_trace(data={\n",
    "    x=iris['species'],\n",
    "    y=iris['sepal_length'],\n",
    "})\n",
    "fig.add_trace(data={\n",
    "    x=iris['species'],\n",
    "    y=iris['sepal_length'],\n",
    "})\n",
    "fig.show()"
   ]
  },
  {
   "cell_type": "code",
   "execution_count": null,
   "id": "1719aa8c-f5bf-4f52-be6f-d4cb5646ef04",
   "metadata": {},
   "outputs": [],
   "source": [
    "fig =px.line_3d(tips,x='total_bill',y='day',z='sex',color='day')\n",
    "fig.show()"
   ]
  },
  {
   "cell_type": "code",
   "execution_count": null,
   "id": "45e84128-76e0-4c47-808c-a3fede2186cc",
   "metadata": {},
   "outputs": [],
   "source": [
    "fig=px.treemap(tips,path=['day','smoker','sex'],values='tip')\n",
    "fig.show()"
   ]
  },
  {
   "cell_type": "code",
   "execution_count": null,
   "id": "5548a3a7-61d9-4299-ac6e-42c735ac82d3",
   "metadata": {},
   "outputs": [],
   "source": []
  }
 ],
 "metadata": {
  "kernelspec": {
   "display_name": "Python 3 (ipykernel)",
   "language": "python",
   "name": "python3"
  },
  "language_info": {
   "codemirror_mode": {
    "name": "ipython",
    "version": 3
   },
   "file_extension": ".py",
   "mimetype": "text/x-python",
   "name": "python",
   "nbconvert_exporter": "python",
   "pygments_lexer": "ipython3",
   "version": "3.11.8"
  }
 },
 "nbformat": 4,
 "nbformat_minor": 5
}
